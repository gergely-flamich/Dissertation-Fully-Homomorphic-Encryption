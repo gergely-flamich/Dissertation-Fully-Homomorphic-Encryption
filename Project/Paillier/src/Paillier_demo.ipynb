{
 "cells": [
  {
   "cell_type": "markdown",
   "metadata": {
    "deletable": true,
    "editable": true
   },
   "source": [
    "Paillier Cipher Demo\n",
    "==================================\n",
    "\n",
    "This notebook has been created to provide a basic walkthrough of the crypto scheme invented by P. Paillier in 1999.\n",
    "\n",
    "__Note for using Jupyter:__ Use $\\texttt{SHIFT + ENTER}$ to execute the code snippets!\n",
    "\n",
    "We start by recalling the problem on which the system is based: the __Decisional Composite Residuosity Problem (DCRP)__. Recall the __DCRP hardness assumption__:\n",
    "\n",
    "Given a security parameter $\\lambda = 1^n$ and PPT algorithm $\\texttt{GenModulus}$ the DCRP is hard relative to $\\texttt{GenModulus}$, if every PPT adversary $\\mathcal{A}$ has negligible advantage to solve it:\n",
    "\n",
    "$$\n",
    "    \\texttt{Adv}^{\\text{dcrp}}_{\\mathcal{A}, \\texttt{GenModulus}}(n) = \n",
    "    \\mathbb{P}[\\mathcal{A}(N, r^N \\text{ mod } N^2) = 1] - \n",
    "    \\mathbb{P}[\\mathcal{A}(N, r) = 1] \\leq \\text{negl}(n),\n",
    "$$\n",
    "\n",
    "where $(N, p, q) \\leftarrow \\texttt{GenModulus(n)}$ and $r$ is picked uniformly from $\\mathbb{Z}_{N^2}^*$.\n",
    "\n",
    "Informally, the DCRP assumption says that for a fitting $\\texttt{GenModulus}$, telling apart a generic group element from an $N$-th power is very hard (NP-hard in fact)."
   ]
  },
  {
   "cell_type": "code",
   "execution_count": 1,
   "metadata": {
    "collapsed": true,
    "deletable": true,
    "editable": true
   },
   "outputs": [],
   "source": [
    "load('paillier.sage')"
   ]
  },
  {
   "cell_type": "markdown",
   "metadata": {
    "deletable": true,
    "editable": true
   },
   "source": [
    "Key Generation\n",
    "---------------------------------------------------------------\n",
    "\n",
    "Key generation is quite straightforward: we simply need to find a fitting $N$ for the public key, and the corresponding $\\phi(N)$ for the secret key.\n",
    "\n",
    "Thus, the algorithm is as follows:\n",
    "\n",
    "1. Given security parameter $1^n$, pick two different random primes $p, q$ such that $|p| = |q|$. (This is the implementation of $\\texttt{GenModulus}$.)\n",
    "\n",
    "2. Calculate $N = pq$ and $\\phi(N) = (p - 1)(q - 1)$. Since $\\gcd(N, \\phi(N)) = 1$, $\\phi(N)$ can be inverted mod $N$, and so we calculate this as well.\n",
    "\n",
    "3. Output $(pk, sk)$, where $pk = N$ and $sk = (N, \\phi(N), \\phi(N)^{-1})$."
   ]
  },
  {
   "cell_type": "code",
   "execution_count": 2,
   "metadata": {
    "collapsed": false,
    "deletable": true,
    "editable": true
   },
   "outputs": [
    {
     "data": {
      "text/plain": [
       "(680870048931612002542069545043,\n",
       " (680870048931612002542069545043,\n",
       "  680870048931610329172080889000,\n",
       "  18335112612710301625254405773))"
      ]
     },
     "execution_count": 2,
     "metadata": {},
     "output_type": "execute_result"
    }
   ],
   "source": [
    "pk, sk = key_gen(50);pk, sk"
   ]
  },
  {
   "cell_type": "markdown",
   "metadata": {
    "deletable": true,
    "editable": true
   },
   "source": [
    "Encryption\n",
    "--------------------------------------------------------------\n",
    "\n",
    "To leverage the DCRP assumption, we would like to operate in the group $\\mathbb{Z}_{N^2}^*$ and encode our message in its elements. To do this, we will leverage the isomorphism between $\\mathbb{Z}_{N^2} \\cong \\mathbb{Z}_N \\times \\mathbb{Z}_N^*$ given by\n",
    "\n",
    "$$\n",
    "    (1 + N)^a \\cdot b^N \\text{ mod } N^2 \\cong (a, b) \\text{ mod } N\n",
    "$$\n",
    "\n",
    "In particular, we note that for some message $m \\in \\mathbb{Z}_N$ and a random element $r \\in \\mathbb{Z}_N^*$, we can have\n",
    "\n",
    "$$\n",
    "    (m, 0) \\cdot (1, r) = (m, r).\n",
    "$$\n",
    "\n",
    "Then, we can really simply calculate the image of the isomorphism for $(m, r)$. This is precisely what we perform in the encryption function:"
   ]
  },
  {
   "cell_type": "code",
   "execution_count": 3,
   "metadata": {
    "collapsed": false,
    "deletable": true,
    "editable": true
   },
   "outputs": [
    {
     "data": {
      "text/plain": [
       "(317242678010904977962638791784124390822053092865154142987794,\n",
       " 183547091357144087819490270157715711762618451355354599492903)"
      ]
     },
     "execution_count": 3,
     "metadata": {},
     "output_type": "execute_result"
    }
   ],
   "source": [
    "m1 = 1000\n",
    "m2 = 1111\n",
    "\n",
    "c1 = encrypt(pk, m1)\n",
    "c2 = encrypt(pk, m2)\n",
    "\n",
    "c1, c2"
   ]
  },
  {
   "cell_type": "markdown",
   "metadata": {
    "collapsed": true,
    "deletable": true,
    "editable": true
   },
   "source": [
    "Decryption\n",
    "-------------------------------------------------------------------\n",
    "\n",
    "Given some secret key $sk = (N, \\phi(N), \\phi(N)^{-1})$ and, the decryption function will calculate and output\n",
    "\n",
    "$$\n",
    "    m' = \\frac{(c^{\\phi(N)} \\text{ mod } N) - 1}{N} \\cdot \\phi(N)^{-1} \\text{ mod } N.\n",
    "$$\n",
    "\n",
    "Correctness\n",
    "--------------------------------------------------------------------\n",
    "\n",
    "The above might be quite a mouthful, but thinking in the context of the isomorphism, it is, in fact, a very natural set of calculations. Proving correctness takes some care, please see Section 7.2.2 in the report for a proof.\n",
    "\n",
    "Here, we check the correctness empirically:"
   ]
  },
  {
   "cell_type": "code",
   "execution_count": 4,
   "metadata": {
    "collapsed": false,
    "deletable": true,
    "editable": true
   },
   "outputs": [
    {
     "data": {
      "text/plain": [
       "(1000, 1111)"
      ]
     },
     "execution_count": 4,
     "metadata": {},
     "output_type": "execute_result"
    }
   ],
   "source": [
    "m1_p = decrypt(sk, c1)\n",
    "m2_p = decrypt(sk, c2)\n",
    "\n",
    "m1_p, m2_p"
   ]
  },
  {
   "cell_type": "markdown",
   "metadata": {
    "deletable": true,
    "editable": true
   },
   "source": [
    "Homomorphic Property\n",
    "------------------------------------------------------------\n",
    "\n",
    "For the two ciphertexts $c_1 \\cong (m_1, r_1), c_2 \\cong (m_2, r_2)$, observe that multiplying them together we get\n",
    "\n",
    "$$\n",
    "    c_1 \\cdot c_2 \\text{ mod } N^2\\cong (m_1, r_1) \\cdot (m_2, r_2)  \\text{ mod } N = (m_1 + m_2, r_1r_2) \\text{ mod } N\n",
    "$$\n",
    "\n",
    "which is again a valid ciphertext. Thus multiplication of ciphertexts (mod $N^2$) corresponds to the addition of their underlying plaintexts (mod $N$)! "
   ]
  },
  {
   "cell_type": "code",
   "execution_count": 5,
   "metadata": {
    "collapsed": false,
    "deletable": true,
    "editable": true
   },
   "outputs": [
    {
     "data": {
      "text/plain": [
       "2111"
      ]
     },
     "execution_count": 5,
     "metadata": {},
     "output_type": "execute_result"
    }
   ],
   "source": [
    "decrypt(sk, c1 * c2)"
   ]
  },
  {
   "cell_type": "markdown",
   "metadata": {
    "deletable": true,
    "editable": true
   },
   "source": [
    "Security Considerations\n",
    "-------------------------------------------------------\n",
    "\n",
    "We have seen in Section 7.1.2 that no homomorphic scheme can be secure in the non-malleability framework. In particular, we can expose a PPT adversary $\\mathcal{A}$ that will break this notion:"
   ]
  },
  {
   "cell_type": "code",
   "execution_count": 12,
   "metadata": {
    "collapsed": true,
    "deletable": true,
    "editable": true
   },
   "outputs": [],
   "source": [
    "def A(pk, challenge=None):\n",
    "    \n",
    "    N = pk\n",
    "    \n",
    "    # If we don't pass a challenge, we are in stage 1\n",
    "    if challenge is None:\n",
    "        \n",
    "        # The sampling function we will return will\n",
    "        # uniformly sample M\\{1} where M is the message space group\n",
    "        # Note that the identity in Z_N is 0!\n",
    "        # Note that for efficiency, we sample at most the first 99 elements\n",
    "        sample = lambda: ZZ.random_element(1, min(N, 100))\n",
    "        \n",
    "        return sample\n",
    "    \n",
    "    else:\n",
    "        \n",
    "        # We calculate the square of the received ciphertext\n",
    "        c = challenge * challenge\n",
    "        \n",
    "        # Also, define the relation R(a, b) iff a^2 = b\n",
    "        R = lambda a, b: a * a == b\n",
    "        \n",
    "        return c, R"
   ]
  },
  {
   "cell_type": "markdown",
   "metadata": {
    "deletable": true,
    "editable": true
   },
   "source": [
    "Now, we define the NM-CPA experiment:"
   ]
  },
  {
   "cell_type": "code",
   "execution_count": 13,
   "metadata": {
    "collapsed": true,
    "deletable": true,
    "editable": true
   },
   "outputs": [],
   "source": [
    "def Expr(sec_param, Pi, A):\n",
    "    \"\"\"\n",
    "    NM-CPA security experiment.\n",
    "    \n",
    "    We take a security parameter lambda, \n",
    "    a cipher Pi and PPT adversary A\n",
    "    \"\"\"\n",
    "    (gen, enc, dec) = Pi\n",
    "    \n",
    "    # Step 1: generate key pair\n",
    "    (pk, sk) = gen(sec_param)\n",
    "    \n",
    "    # Step 2: obtain sampling algorithm from the adversary\n",
    "    samp = A(pk)\n",
    "    \n",
    "    # Step 3: generate a message using the adversary's sampling\n",
    "    # algorithm and calculate the challenge\n",
    "    m = samp()\n",
    "    \n",
    "    challenge = enc(pk, m)\n",
    "    \n",
    "    # Step 4: see if the adversary succeeds\n",
    "    c, R = A(pk, challenge=challenge)\n",
    "    \n",
    "    return 1 if R(challenge, c) else 0"
   ]
  },
  {
   "cell_type": "markdown",
   "metadata": {
    "deletable": true,
    "editable": true
   },
   "source": [
    "Now, we will run 100 experiments:"
   ]
  },
  {
   "cell_type": "code",
   "execution_count": 14,
   "metadata": {
    "collapsed": false,
    "deletable": true,
    "editable": true
   },
   "outputs": [
    {
     "data": {
      "text/plain": [
       "100"
      ]
     },
     "execution_count": 14,
     "metadata": {},
     "output_type": "execute_result"
    }
   ],
   "source": [
    "Pi = (key_gen, encrypt, decrypt)\n",
    "\n",
    "sec_param = 20\n",
    "\n",
    "counter = 0;\n",
    "\n",
    "for i in range(100):\n",
    "    # Count the number of times the adversary solves the experiment\n",
    "    counter += Expr(sec_param, Pi, A)\n",
    "    \n",
    "counter"
   ]
  },
  {
   "cell_type": "markdown",
   "metadata": {
    "deletable": true,
    "editable": true
   },
   "source": [
    "We see that $\\mathcal{A}$ breaks NM-CPA security with probability 1, which is a non-negligible advantage, hence Paillier is not NM-CPA secure."
   ]
  },
  {
   "cell_type": "code",
   "execution_count": null,
   "metadata": {
    "collapsed": true,
    "deletable": true,
    "editable": true
   },
   "outputs": [],
   "source": []
  }
 ],
 "metadata": {
  "kernelspec": {
   "display_name": "SageMath 8.1",
   "language": "",
   "name": "sagemath"
  },
  "language_info": {
   "codemirror_mode": {
    "name": "ipython",
    "version": 2
   },
   "file_extension": ".py",
   "mimetype": "text/x-python",
   "name": "python",
   "nbconvert_exporter": "python",
   "pygments_lexer": "ipython2",
   "version": "2.7.14"
  }
 },
 "nbformat": 4,
 "nbformat_minor": 2
}
