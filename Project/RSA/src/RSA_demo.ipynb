{
 "cells": [
  {
   "cell_type": "markdown",
   "metadata": {},
   "source": [
    "Textbook RSA Dummy Implementation\n",
    "===================\n",
    "\n",
    "This file is an implementation of the scheme invented by Rivest, Shamir and Adleman.\n",
    "\n",
    "Recall the __RSA experiment__: \n",
    "\n",
    "Given security parameter $\\lambda = 1^n$ a PPT adversary $\\mathcal{A}$ and PPT algorithm $\\texttt{GenRSA}$, the RSA experiment is as follows\n",
    "1. Run $(N, e, d) \\leftarrow \\texttt{GenRSA}(\\lambda)$.\n",
    "2. Uniformly pick $y \\leftarrow \\mathbb{Z}^*_N$.\n",
    "3. Run $x = \\mathcal{A}(N, e, y)$ where $x \\in \\mathbb{Z}^*_N$.\n",
    "4. Set $\\texttt{Expr}^{\\text{RSA}}_{\\mathcal{A}, \\texttt{GenRSA}}(\\lambda) = 1$ if $x^e = y$ and $0$ otherwise.\n",
    "\n",
    "Informally, the RSA experiment is merely asking the adversary to take the $e$th square root of $y$ modulo $N$. Now, for the hardness assumption:\n",
    "\n",
    "__RSA hardness assumption__:\n",
    "\n",
    "The RSA experiment is hard relative to $\\texttt{GenRSA}$ is every PPT adversary $\\mathcal{A}$ has negligible advantage of succeeding to solve the experiment:\n",
    "$$\n",
    "\\texttt{Adv}^{\\text{RSA}}_{\\mathcal{A}, \\texttt{GenRSA}}(\\lambda) = \\mathbb{P}[\\texttt{Expr}^{\\text{RSA}}_{\\mathcal{A}, \\texttt{GenRSA}}(\\lambda) = 1] \\leq \\text{negl}(n).\n",
    "$$\n",
    "\n",
    "Recall, that it is conjectured that if $N = pq$ for some $p, q = \\mathcal{O}(\\sqrt{N})$ primes and arbitrary exponent $e$ the RSA experiment is indeed very hard to solve (it is NP-hard). We can then use this to create a trapdoor and based on that a crypto scheme, that we will see below."
   ]
  },
  {
   "cell_type": "code",
   "execution_count": null,
   "metadata": {
    "collapsed": true,
    "deletable": true,
    "editable": true
   },
   "outputs": [],
   "source": [
    "load('rsa.sage')"
   ]
  },
  {
   "cell_type": "markdown",
   "metadata": {},
   "source": [
    "Key Generation\n",
    "-----------------------------------------\n",
    "\n",
    "We begin with key generation. Given a security parameter $\\lambda = 1^n$ we perform the following:\n",
    "\n",
    "1. Pick two different primes $|p| = |q|$ (here $|\\cdot|$ measures the length of the binary representation of numbers).\n",
    "2. Calculate $N = pq$ and $\\phi(N) = (p - 1)(q - 1)$.\n",
    "3. Pick an element $e$ such that $\\gcd(e, \\phi(N)) = 1$. This means that $e \\in \\mathbb{Z}^*_N$, and hence invertible mod $N$.\n",
    "4. Output $pk = (N, e)$ and $sk = (N, e^{-1})$\n",
    "\n",
    "Below we have performed this procedure precisely:"
   ]
  },
  {
   "cell_type": "code",
   "execution_count": 2,
   "metadata": {
    "collapsed": false,
    "deletable": true,
    "editable": true
   },
   "outputs": [
    {
     "data": {
      "text/plain": [
       "((2457322981641903598394904537989, 552540427338418501877724158197),\n",
       " (2457322981641903598394904537989, -207543256224699247221522360227))"
      ]
     },
     "execution_count": 2,
     "metadata": {},
     "output_type": "execute_result"
    }
   ],
   "source": [
    "pk, sk = key_gen(50);pk, sk"
   ]
  },
  {
   "cell_type": "markdown",
   "metadata": {},
   "source": [
    "Encryption\n",
    "---------------------------------\n",
    "\n",
    "Encryption is rather simple, we are just following the RSA experiment:\n",
    "\n",
    "Given public key $pk = (N, e)$ and message $m$, output $c = m^e \\mod N$.\n",
    "\n"
   ]
  },
  {
   "cell_type": "code",
   "execution_count": 3,
   "metadata": {
    "collapsed": false
   },
   "outputs": [
    {
     "data": {
      "text/plain": [
       "1258967897177224801149888061088"
      ]
     },
     "execution_count": 3,
     "metadata": {},
     "output_type": "execute_result"
    }
   ],
   "source": [
    "m = 1234\n",
    "c = encrypt(pk, m);c"
   ]
  },
  {
   "cell_type": "markdown",
   "metadata": {},
   "source": [
    "Decryption\n",
    "---------------------------------------\n",
    "\n",
    "Decryption will make use of our trapdoor: when we are only given $N, e$ and $x^e$ for some $x$, it is hard to invert the encryption function. However, leveraging the fact that $e$ is invertible in $\\mathbb{Z}^*_N$ and in any group $G$ we have $g^p = g^{p \\mod |G|}$ for arbitrary $p \\in \\mathbb{Z}$, given a secret key $sk = (N, d = e^{-1})$ and ciphertext $c$, we can calculate and output\n",
    "$$\n",
    "    m' = c^d\\mod N.\n",
    "$$\n",
    "\n",
    "Correctness\n",
    "----------------------------------------\n",
    "\n",
    "Combining the encryption and decryption functions then, given $pk = (N, e)$, $sk = (N, d = e^{-1})$ and message $m \\in \\mathbb{Z}_N$, we have\n",
    "\n",
    "\n",
    "$$ \n",
    "    m' = \\text{Dec}_{sk}(\\text{Enc}_{pk}(m))\n",
    "$$\n",
    "\n",
    "\n",
    "$$\n",
    "    m' = (m^e\\mod N)^d\\mod N\n",
    "$$\n",
    "\n",
    "$$\n",
    "    m' = m^{ed\\mod N}\\mod N\n",
    "$$\n",
    "Then, $ed = ee^{-1} = 1 \\mod N$ by the definition of the cipher and hence\n",
    "$$\n",
    "    m' = m^{1 \\mod N}\\mod N = m.\n",
    "$$\n",
    "\n",
    "Below, we see can test the correctness in practice:"
   ]
  },
  {
   "cell_type": "code",
   "execution_count": 4,
   "metadata": {
    "collapsed": false
   },
   "outputs": [
    {
     "data": {
      "text/plain": [
       "1234"
      ]
     },
     "execution_count": 4,
     "metadata": {},
     "output_type": "execute_result"
    }
   ],
   "source": [
    "\n",
    "\n",
    "m_prime = decrypt(sk, c);m_prime"
   ]
  }
 ],
 "metadata": {
  "kernelspec": {
   "display_name": "SageMath 8.1",
   "language": "",
   "name": "sagemath"
  },
  "language_info": {
   "codemirror_mode": {
    "name": "ipython",
    "version": 2
   },
   "file_extension": ".py",
   "mimetype": "text/x-python",
   "name": "python",
   "nbconvert_exporter": "python",
   "pygments_lexer": "ipython2",
   "version": "2.7.14"
  }
 },
 "nbformat": 4,
 "nbformat_minor": 2
}
