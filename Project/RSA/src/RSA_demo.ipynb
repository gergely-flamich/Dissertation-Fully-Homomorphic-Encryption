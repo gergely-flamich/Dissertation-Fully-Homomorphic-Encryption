{
 "cells": [
  {
   "cell_type": "markdown",
   "metadata": {
    "deletable": true,
    "editable": true
   },
   "source": [
    "Textbook RSA Dummy Implementation\n",
    "===================\n",
    "\n",
    "This file is an implementation of the scheme invented by Rivest, Shamir and Adleman.\n",
    "\n",
    "__Note for using Jupyter__: Use $\\texttt{SHIFT + ENTER}$ to execute the code snippets!\n",
    "\n",
    "Recall the __RSA experiment__: \n",
    "\n",
    "Given security parameter $\\lambda = 1^n$ a PPT adversary $\\mathcal{A}$ and PPT algorithm $\\texttt{GenRSA}$, the RSA experiment is as follows\n",
    "1. Run $(N, e, d) \\leftarrow \\texttt{GenRSA}(\\lambda)$.\n",
    "2. Uniformly pick $y \\leftarrow \\mathbb{Z}^*_N$.\n",
    "3. Run $x = \\mathcal{A}(N, e, y)$ where $x \\in \\mathbb{Z}^*_N$.\n",
    "4. Set $\\texttt{Expr}^{\\text{RSA}}_{\\mathcal{A}, \\texttt{GenRSA}}(\\lambda) = 1$ if $x^e = y$ and $0$ otherwise.\n",
    "\n",
    "Informally, the RSA experiment is merely asking the adversary to take the $e$th root of $y$ modulo $N$. Now, for the hardness assumption:\n",
    "\n",
    "__RSA hardness assumption__:\n",
    "\n",
    "The RSA experiment is hard relative to $\\texttt{GenRSA}$ if every PPT adversary $\\mathcal{A}$ has negligible advantage of succeeding to solve the experiment:\n",
    "$$\n",
    "\\texttt{Adv}^{\\text{RSA}}_{\\mathcal{A}, \\texttt{GenRSA}}(\\lambda) = \\mathbb{P}[\\texttt{Expr}^{\\text{RSA}}_{\\mathcal{A}, \\texttt{GenRSA}}(\\lambda) = 1] \\leq \\text{negl}(n).\n",
    "$$\n",
    "\n",
    "Recall, that it is conjectured that if $N = pq$ for some $p, q = \\mathcal{O}(\\sqrt{N})$ primes and arbitrary exponent $e$ the RSA experiment is indeed very hard to solve (it is NP-hard). We can then use this to create a trapdoor and based on that a crypto scheme, that we will see below."
   ]
  },
  {
   "cell_type": "code",
   "execution_count": 2,
   "metadata": {
    "collapsed": true,
    "deletable": true,
    "editable": true
   },
   "outputs": [],
   "source": [
    "load('./rsa.sage')"
   ]
  },
  {
   "cell_type": "markdown",
   "metadata": {
    "deletable": true,
    "editable": true
   },
   "source": [
    "Key Generation\n",
    "-----------------------------------------\n",
    "\n",
    "We begin with key generation. Given a security parameter $\\lambda = 1^n$ we perform the following:\n",
    "\n",
    "1. Pick two different primes $|p| = |q|$ (here $|\\cdot|$ measures the length of the binary representation of numbers).\n",
    "2. Calculate $N = pq$ and $\\phi(N) = (p - 1)(q - 1)$.\n",
    "3. Pick an element $e$ such that $\\gcd(e, \\phi(N)) = 1$. This means that $e \\in \\mathbb{Z}^*_N$, and hence invertible mod $N$.\n",
    "4. Output $pk = (N, e)$ and $sk = (N, e^{-1})$\n",
    "\n",
    "Below we have performed this procedure precisely:"
   ]
  },
  {
   "cell_type": "code",
   "execution_count": 3,
   "metadata": {
    "collapsed": false,
    "deletable": true,
    "editable": true
   },
   "outputs": [
    {
     "data": {
      "text/plain": [
       "((3654282358540037353184490864391, 1600886757123181629156101005139),\n",
       " (3654282358540037353184490864391, 1744501367292958863880289016059))"
      ]
     },
     "execution_count": 3,
     "metadata": {},
     "output_type": "execute_result"
    }
   ],
   "source": [
    "pk, sk = key_gen(50);pk, sk"
   ]
  },
  {
   "cell_type": "markdown",
   "metadata": {
    "deletable": true,
    "editable": true
   },
   "source": [
    "Encryption\n",
    "---------------------------------\n",
    "\n",
    "Encryption is rather simple, we are just following the RSA experiment:\n",
    "\n",
    "Given public key $pk = (N, e)$ and message $m$, output $c = m^e \\mod N$.\n",
    "\n"
   ]
  },
  {
   "cell_type": "code",
   "execution_count": 4,
   "metadata": {
    "collapsed": false,
    "deletable": true,
    "editable": true
   },
   "outputs": [
    {
     "data": {
      "text/plain": [
       "3053535034713184197374850046361"
      ]
     },
     "execution_count": 4,
     "metadata": {},
     "output_type": "execute_result"
    }
   ],
   "source": [
    "m = 1234\n",
    "c = encrypt(pk, m);c"
   ]
  },
  {
   "cell_type": "markdown",
   "metadata": {
    "deletable": true,
    "editable": true
   },
   "source": [
    "Decryption\n",
    "---------------------------------------\n",
    "\n",
    "Decryption will make use of our trapdoor: when we are only given $N, e$ and $x^e$ for some $x$, it is hard to invert the encryption function. However, leveraging the fact that $e$ is invertible in $\\mathbb{Z}^*_N$ and in any group $G$ we have $g^p = g^{p \\mod |G|}$ for arbitrary $p \\in \\mathbb{Z}$, given a secret key $sk = (N, d = e^{-1})$ and ciphertext $c$, we can calculate and output\n",
    "$$\n",
    "    m' = c^d\\mod N.\n",
    "$$\n",
    "\n",
    "Correctness\n",
    "----------------------------------------\n",
    "\n",
    "Combining the encryption and decryption functions then, given $pk = (N, e)$, $sk = (N, d = e^{-1})$ and message $m \\in \\mathbb{Z}_N$, we have\n",
    "\n",
    "\n",
    "$$ \n",
    "    m' = \\text{Dec}_{sk}(\\text{Enc}_{pk}(m))\n",
    "$$\n",
    "\n",
    "\n",
    "$$\n",
    "    m' = (m^e\\mod N)^d\\mod N\n",
    "$$\n",
    "\n",
    "$$\n",
    "    m' = m^{ed\\mod N}\\mod N\n",
    "$$\n",
    "Then, $ed = ee^{-1} = 1 \\mod N$ by the definition of the cipher and hence\n",
    "$$\n",
    "    m' = m^{1 \\mod N}\\mod N = m.\n",
    "$$\n",
    "\n",
    "Below, we see can test the correctness in practice:"
   ]
  },
  {
   "cell_type": "code",
   "execution_count": 5,
   "metadata": {
    "collapsed": false,
    "deletable": true,
    "editable": true
   },
   "outputs": [
    {
     "data": {
      "text/plain": [
       "1234"
      ]
     },
     "execution_count": 5,
     "metadata": {},
     "output_type": "execute_result"
    }
   ],
   "source": [
    "m_prime = decrypt(sk, c);m_prime"
   ]
  },
  {
   "cell_type": "markdown",
   "metadata": {
    "deletable": true,
    "editable": true
   },
   "source": [
    "Notes about the security of this scheme\n",
    "----------------------------------------------\n",
    "\n",
    "Recall from Section 5.6 in the report that since this encryption function is deterministic, thes scheme cannot be IND-CPA secure.\n",
    "\n",
    "We can actually expose an adversary $\\mathcal{A}$ that breaks this security level quite easily:"
   ]
  },
  {
   "cell_type": "code",
   "execution_count": 6,
   "metadata": {
    "collapsed": true,
    "deletable": true,
    "editable": true
   },
   "outputs": [],
   "source": [
    "def A(pk, challenge=None, state=None):\n",
    "    \n",
    "    (N, e) = pk\n",
    "    \n",
    "    # If we don't pass a challenge, we are in stage 1\n",
    "    if challenge is None:\n",
    "        \n",
    "        # We pick two arbitrary different messages\n",
    "        # from the message space\n",
    "        m0 = ZZ.random_element(N)\n",
    "        \n",
    "        m1 = -1\n",
    "        while m0 == m1:\n",
    "            m1 = ZZ.random_element(N)\n",
    "            \n",
    "        # We precompute the eth power of m0 mod N\n",
    "        state = mod(m0, N) ^ e\n",
    "        \n",
    "        return (m0, m1), state\n",
    "    \n",
    "    else:\n",
    "        \n",
    "        return 0 if challenge == state else 1"
   ]
  },
  {
   "cell_type": "markdown",
   "metadata": {
    "deletable": true,
    "editable": true
   },
   "source": [
    "Then, we can define the IND-CPA security experiment:"
   ]
  },
  {
   "cell_type": "code",
   "execution_count": 7,
   "metadata": {
    "collapsed": true,
    "deletable": true,
    "editable": true
   },
   "outputs": [],
   "source": [
    "def Expr(sec_param, Pi, A):\n",
    "    \"\"\"\n",
    "    IND-CPA security experiment.\n",
    "    \n",
    "    We take a security parameter lambda, \n",
    "    a cipher Pi and PPT adversary A\n",
    "    \"\"\"\n",
    "    (gen, enc, dec) = Pi\n",
    "    \n",
    "    # Step 1: generate key pair\n",
    "    (pk, sk) = gen(sec_param)\n",
    "    \n",
    "    # Step 2: obtain messages from the adversary\n",
    "    (m0, m1), state = A(pk)\n",
    "    \n",
    "    # Step 3: generate a uniform bit and calculate the challenge\n",
    "    b = ZZ.random_element(2)\n",
    "    \n",
    "    challenge = enc(pk, m0) if b == 0 else enc(pk, m1)\n",
    "    \n",
    "    # Step 4: see if the adversary succeeds\n",
    "    return 1 if A(pk, challenge=challenge, state=state) == b else 0"
   ]
  },
  {
   "cell_type": "markdown",
   "metadata": {
    "deletable": true,
    "editable": true
   },
   "source": [
    "Now, let's see if $\\mathcal{A}$ indeed succeeds with non-negligible advantage:"
   ]
  },
  {
   "cell_type": "code",
   "execution_count": 8,
   "metadata": {
    "collapsed": false,
    "deletable": true,
    "editable": true
   },
   "outputs": [
    {
     "data": {
      "text/plain": [
       "100"
      ]
     },
     "execution_count": 8,
     "metadata": {},
     "output_type": "execute_result"
    }
   ],
   "source": [
    "Pi = (key_gen, encrypt, decrypt)\n",
    "\n",
    "sec_param = 20\n",
    "\n",
    "counter = 0;\n",
    "\n",
    "for i in range(100):\n",
    "    # Count the number of times the adversary solves the experiment\n",
    "    counter += Expr(sec_param, Pi, A)\n",
    "    \n",
    "counter    "
   ]
  },
  {
   "cell_type": "markdown",
   "metadata": {
    "deletable": true,
    "editable": true
   },
   "source": [
    "We see that the above adversary not only has non-negligble advantage, but breaks the scheme with probability 1! \n",
    "\n",
    "In particular, this is the special case of Theorem 5.4 for RSA.\n",
    "\n",
    "Secondly, we note that the security parameter must be high enough, since we are relying on the fact that it is hard to factorize $N$. We illustrate this below:"
   ]
  },
  {
   "cell_type": "code",
   "execution_count": 9,
   "metadata": {
    "collapsed": false,
    "deletable": true,
    "editable": true
   },
   "outputs": [
    {
     "data": {
      "text/plain": [
       "[1705767464357521, 2142309801832471]"
      ]
     },
     "execution_count": 9,
     "metadata": {},
     "output_type": "execute_result"
    }
   ],
   "source": [
    "factors = map(lambda tup: tup[0], list(factor(pk[0])));factors"
   ]
  },
  {
   "cell_type": "markdown",
   "metadata": {
    "deletable": true,
    "editable": true
   },
   "source": [
    "We can now calculate $\\phi(N)$, and use it to invert the exponent and break the scheme:"
   ]
  },
  {
   "cell_type": "code",
   "execution_count": 10,
   "metadata": {
    "collapsed": false,
    "deletable": true,
    "editable": true
   },
   "outputs": [
    {
     "data": {
      "text/plain": [
       "1234"
      ]
     },
     "execution_count": 10,
     "metadata": {},
     "output_type": "execute_result"
    }
   ],
   "source": [
    "phi = (factors[0] - 1) * (factors[1] - 1)\n",
    "\n",
    "(_, e_inv, _) = xgcd(pk[1], phi)\n",
    "\n",
    "broken_sk = (pk[0], e_inv)\n",
    "\n",
    "decrypt(broken_sk, c)"
   ]
  },
  {
   "cell_type": "code",
   "execution_count": null,
   "metadata": {
    "collapsed": true,
    "deletable": true,
    "editable": true
   },
   "outputs": [],
   "source": []
  }
 ],
 "metadata": {
  "kernelspec": {
   "display_name": "SageMath 8.1",
   "language": "",
   "name": "sagemath"
  },
  "language_info": {
   "codemirror_mode": {
    "name": "ipython",
    "version": 2
   },
   "file_extension": ".py",
   "mimetype": "text/x-python",
   "name": "python",
   "nbconvert_exporter": "python",
   "pygments_lexer": "ipython2",
   "version": "2.7.14"
  }
 },
 "nbformat": 4,
 "nbformat_minor": 2
}
