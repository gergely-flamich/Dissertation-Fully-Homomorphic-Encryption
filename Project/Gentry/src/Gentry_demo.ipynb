{
 "cells": [
  {
   "cell_type": "markdown",
   "metadata": {
    "deletable": true,
    "editable": true
   },
   "source": [
    "Gentry's Somewhat Homomorphic Cipher Demo\n",
    "=======================================\n",
    "\n",
    "This Notebook provides a basic walkthrough of the cryptosystem invented by Gentry [1]. The implementation discussed here is based on the one by Gentry and Halevi [2].\n",
    "\n",
    "__Note for using Jupyter__: Use $\\texttt{SHIFT + ENTER}$ to execute the code snippets!\n",
    "\n",
    "Recall the __Ideal Coset Problem__:\n",
    "\n",
    "Given a security parameter $\\lambda = 1^n$, a ring $R$ with an ideal $I$, a PPT algorithm $\\texttt{Samp}_R$ that samples $R$ according to some distribution, a PPT algorithm $\\texttt{GenIdeal}$ and a PPT adversary $\\mathcal{A}$, the ICP experiment is as follows:\n",
    "\n",
    "1. Run $\\texttt{GenIdeal}(\\lambda, R, I)$ and obtain a tuple $(J^{pk}, J^{sk})$, two generators of the same ideal $J$ such that $I + J = R$.\n",
    "2. Generate $r_0 \\leftarrow \\texttt{Samp}_R$ and $r_1 \\leftarrow R$ and a bit $b \\leftarrow \\{0, 1\\}$. Then, calculate $r = r_b \\mod J^{pk}$.\n",
    "3. $\\mathcal{A}$ is given $R, I, J^{pk}, \\texttt{Samp}_R$ and $r$ and outputs some bit $b' \\in \\{0, 1\\}$.\n",
    "4. Set $\\texttt{Expr}^{ICP}_{\\mathcal{A}, R, I, \\texttt{Samp}_R, \\texttt{GenIdeal}}(n) = 1$ if $b = b'$ and 0 otherwise.\n",
    "\n",
    "Informally, the ICP asks an adversary to decide whether the coset representative it receives was picked uniformly randomly, or whether it was picked according to some different distribution (defined by $\\texttt{Samp}_R$). This would be impossible if the custom sampling function was also uniform, but the hardness assumption is that there are non-uniform sampling algorithms for which it is still hard to succeed.\n",
    "\n",
    "Formally, the __ICP hardness assumption__ says, that the ICP is hard relative to $(R, I ,\\texttt{Samp}_R, \\texttt{GenIdeal})$ if every PPT adversary $\\mathcal{A}$ has negligible probability to succeed, i.e.\n",
    "\n",
    "$$\n",
    "\\texttt{Adv}^{ICP}_{\\mathcal{A}, R, I, \\texttt{Samp}_R, \\texttt{GenIdeal}}(n) = \\left| 2 \\cdot \\texttt{Expr}^{ICP}_{\\mathcal{A}, R, I, \\texttt{Samp}_R, \\texttt{GenIdeal}}(n) - 1 \\right|\\leq \\text{negl}(n).\n",
    "$$\n",
    "\n",
    "The above might seem really far removed, but it has two advantages:\n",
    "1. It yields a straightforward trapdoor, namely the ideal generators $J^{pk}, J^{sk}$ which will serve as the public and private key.\n",
    "2. We can build a scheme based on the ICP and then prove its security based on it. Then, we can \"substitute in\" something more concrete and be guaranteed a secure scheme! (See Section 9.2.3 in the report.)\n",
    "\n",
    "Now, we pick $R = \\mathbb{Z}[x]/f$, where $f(x) = x^N + 1$ for $\\lambda = 1^n$ and $N = 2^n$. It can be shown that $f$ is irreducible and hence $R$ is a field. Pick $I = (2) \\leq R$. \n",
    "\n",
    "Then, define $\\texttt{GenIdeal}$ so that it picks some $v \\in R$ with its coefficients being between some parameter $t$, such that $v \\not\\in I$. Then, it calculates some $h \\in R$ using $v$ such that it is hard to obtain $v$ from $h$ and $(v) = (h) = J$. Then, $\\texttt{GenIdeal}$ returns $J^{pk} = h$ and $J^{sk} = v$. \n",
    "\n",
    "Also define $\\texttt{Samp}_R$ to pick $u \\in R$ such that its coefficients are picked from $\\{0, 1\\}$, with 0 having some probability $p$ and 1 with probability $1 - p$. This will mean that the norm of $u$ will be extremely small."
   ]
  },
  {
   "cell_type": "code",
   "execution_count": 91,
   "metadata": {
    "collapsed": false,
    "deletable": true,
    "editable": true
   },
   "outputs": [],
   "source": [
    "load('somewhat_homom_improved.sage')"
   ]
  },
  {
   "cell_type": "markdown",
   "metadata": {
    "deletable": true,
    "editable": true
   },
   "source": [
    "Key Generation\n",
    "-------------------------------------------------------------------\n",
    "\n",
    "Key generation is fairly straight forward based on the particular instance of the ICP decribed above. Given a security parameter $\\lambda$, we run $(J^{pk}, J^{sk}) \\leftarrow \\texttt{GenIdeal}(\\lambda)$, and we output $(pk = J^{pk} = h, sk = J^{sk} = v)$. \n",
    "\n",
    "However, it is interesting to see how one can obtain the required $h\\in J$ (for full details, see Sections 9.3 and 9.4 in the report). \n",
    "\n",
    "We are going to take advantage of the fact that $(v)$ is isomorphic to $\\mathcal{L}(V) \\leq \\mathbb{Z}^n$ where $V$ is __rotation basis__ for $v$. Then, we can calculate the \"scaled inverse\" of $v$ in $R$ by performing the Extended Euclidean Algorithm on $v$ and $f$, obtaining $w \\in R$ such that\n",
    "\n",
    "$$\n",
    "w \\times v = d \\mod f, \\quad d \\in \\mathbb{Z}.\n",
    "$$\n",
    "\n",
    "Here, we note two things: \n",
    "\n",
    "Firstly, directly from the above, we have\n",
    "\n",
    "$$\n",
    "    V^{-1} = \\frac{1}{d}W.\n",
    "$$\n",
    "Secondly, there is a high probability (around a half) that for a randomly picked $v$ there exists an integer $r$, the lattice $\\mathcal{L}(V)$ can also be represented by the basis\n",
    "\n",
    "$$\n",
    "H = \\begin{bmatrix}\n",
    "        d & 0 & 0 & ... & 0 \\\\\n",
    "        r & 1 & 0 & ... & 0 \\\\\n",
    "        [r^2]_d & 0 & 1 & ... & 0 \\\\\n",
    "        \\vdots & \\vdots & \\vdots & \\ddots & \\vdots \\\\\n",
    "        [r^{n - 1}]_d & 0 & 0 & ... & 1\n",
    "    \\end{bmatrix}\n",
    "$$\n",
    "\n",
    "which is the Hermite Normal Form of $V$ and $[\\cdot]_d$ is the centered modulo operation by $d$. There are many advantages to finding a $v$ whose HNF is of the above form, one of them being that we can represent the entire public key by just the two integers $d$ and $r$! (See Section 9.4.1 for the details of finding $r$.)\n",
    "\n",
    "Below, one can check that $pk$ is indeed comprised of only the security parameter $\\lambda$ and the numbers $(d, r) = J^{pk}$: "
   ]
  },
  {
   "cell_type": "code",
   "execution_count": 92,
   "metadata": {
    "collapsed": false,
    "deletable": true,
    "editable": true
   },
   "outputs": [
    {
     "name": "stdout",
     "output_type": "stream",
     "text": [
      "HNF in correct form after 1 tries.\n"
     ]
    }
   ],
   "source": [
    "pk, sk = key_gen(N=7, t = 128)"
   ]
  },
  {
   "cell_type": "markdown",
   "metadata": {
    "deletable": true,
    "editable": true
   },
   "source": [
    "Encryption\n",
    "------------------------------------------------------\n",
    "\n",
    "Given a public key $pk = J^{pk}$, we will encrypt single bit $m \\in \\{0, 1\\}$, by embedding it into an offset from a lattice point. More concretely, we generate $u \\leftarrow \\texttt{Samp}_R \\mod (2)$. Then, we double this polynomial, and embed the message bit into the constant term, by calculating\n",
    "\n",
    "$$\n",
    "    a(x) = 2\\cdot u(x) + m.\n",
    "$$\n",
    "\n",
    "Then, we calculate the coset representative $c(x) = a(x) \\mod J^{pk}$ and set it as our ciphertext. Note, that to calculate the above in reality, actually we take advantage of the dual nature of our ideal lattice, and perform the modding in $\\mathbb{Z}$. \n",
    "\n",
    "It can be shown, that $c$ can be expressed much more compactly, in particular, it can be shown that\n",
    "\n",
    "$$\n",
    "    c = [[a(r)]_d, 0, ..., 0]\n",
    "$$\n",
    "\n",
    "and therefore the whole ciphertext can just be represented by the first coefficient of $c$!"
   ]
  },
  {
   "cell_type": "code",
   "execution_count": 93,
   "metadata": {
    "collapsed": false,
    "deletable": true,
    "editable": true
   },
   "outputs": [],
   "source": [
    "m1 = 1\n",
    "m2 = 1\n",
    "m3 = 0\n",
    "\n",
    "c1 = encrypt(pk, m1)\n",
    "c2 = encrypt(pk, m2)\n",
    "c3 = encrypt(pk, m3)"
   ]
  },
  {
   "cell_type": "markdown",
   "metadata": {
    "deletable": true,
    "editable": true
   },
   "source": [
    "Decryption\n",
    "-------------------------------------------------\n",
    "\n",
    "Given a secret key $J^{sk}$ and a ciphertext (polynomial) $c$, we will calculate\n",
    "\n",
    "$$\n",
    "    m' = c \\mod J^{sk},\n",
    "$$\n",
    "and the message will be the constant term of $m'$, modulo $2$. Again, switching to the lattice context, it can be shown that decryption only requires that it is enough to calculate the following to recover our message:\n",
    "\n",
    "$$\n",
    "    [c_1\\cdot w_i]_d \\mod 2,\n",
    "$$\n",
    "where $c_1$ is the constant term of $c$ and $w_i$ is an arbitrary odd coefficient of $w$, the scaled inverse of $v$.\n",
    "\n",
    "Correctness & Security\n",
    "-----------------------------------------------------\n",
    "\n",
    "The correctness and security of the above method is highly non-trivial.\n",
    "Therefore, these sections are omitted here and we just note that both of them can be proved in terms of the ICP. See Theorem 9.1 for correctness and Theorem 9.2 for the IND-CPA security proof of the abstract scheme in the report."
   ]
  },
  {
   "cell_type": "code",
   "execution_count": 94,
   "metadata": {
    "collapsed": false,
    "deletable": true,
    "editable": true
   },
   "outputs": [
    {
     "data": {
      "text/plain": [
       "1"
      ]
     },
     "execution_count": 94,
     "metadata": {},
     "output_type": "execute_result"
    }
   ],
   "source": [
    "decrypt(sk, c1)"
   ]
  },
  {
   "cell_type": "markdown",
   "metadata": {
    "deletable": true,
    "editable": true
   },
   "source": [
    "Homomorphic Property of the Scheme\n",
    "------------------------------------------------\n",
    "\n",
    "The whole point of the very peculiar and far-removed set-up up until now was the homomorphic property of the scheme. In particular, the decryption function is a limited ring homomorphism between the cipher space and the message space. Limited, because we cannot perform an arbitrary number of operations.\n",
    "\n",
    "Below, we give a couple of examples of this property."
   ]
  },
  {
   "cell_type": "code",
   "execution_count": 95,
   "metadata": {
    "collapsed": false,
    "deletable": true,
    "editable": true
   },
   "outputs": [
    {
     "data": {
      "text/plain": [
       "True"
      ]
     },
     "execution_count": 95,
     "metadata": {},
     "output_type": "execute_result"
    }
   ],
   "source": [
    "mod((m1 + m2)^12 + m3 * m1, 2) == decrypt(sk, (c1 + c2)^12 + c3 * c1)"
   ]
  },
  {
   "cell_type": "code",
   "execution_count": 96,
   "metadata": {
    "collapsed": false,
    "deletable": true,
    "editable": true
   },
   "outputs": [
    {
     "data": {
      "text/plain": [
       "1"
      ]
     },
     "execution_count": 96,
     "metadata": {},
     "output_type": "execute_result"
    }
   ],
   "source": [
    "decrypt(sk, c1^3 + c3)"
   ]
  },
  {
   "cell_type": "markdown",
   "metadata": {
    "deletable": true,
    "editable": true
   },
   "source": [
    "One might notice, that the above computations may be thought of multivariate polynomials evaluated at the ciphertexts. This is really useful, since boolean circuits correspond 1-to-1 with operations on the message space, hence we can use the equivalent polynomial in the cipherspace to perform the same computation, except on the ciphertexts!\n",
    "\n",
    "Take for example the full adder circuit:\n",
    "\n",
    "![Full adder circuit](fulladder.png)\n",
    "\n",
    "The above performs elementary-school addition: given two numbers and a carry, it adds the three together, giving the sum for the current binary place and calculates the carry for the next binary place.\n",
    "\n",
    "The above can be turned into polynomials, one for each output. In our scheme, multiplication in $R$ corresponds to $\\texttt{AND}$ and addition to $\\texttt{XOR}$. So, the above circuit can be rewritten as:"
   ]
  },
  {
   "cell_type": "code",
   "execution_count": 97,
   "metadata": {
    "collapsed": false,
    "deletable": true,
    "editable": true
   },
   "outputs": [],
   "source": [
    "Z.<x, y, z> = ZZ[]\n",
    "sumC = (x + y) + z\n",
    "carryC = (x * y) + (x + y) * z"
   ]
  },
  {
   "cell_type": "markdown",
   "metadata": {
    "deletable": true,
    "editable": true
   },
   "source": [
    "Then, evaluating these at our ciphertexts (and switching to $\\mathbb{Z}$ from $\\mathbb{Z}[x]$):"
   ]
  },
  {
   "cell_type": "code",
   "execution_count": 98,
   "metadata": {
    "collapsed": false,
    "deletable": true,
    "editable": true
   },
   "outputs": [],
   "source": [
    "sum_ct = ZZ(sumC(x=c1, y=c2, z=c3))\n",
    "carry_ct = ZZ(carryC(x=c1, y=c2, z=c3))"
   ]
  },
  {
   "cell_type": "markdown",
   "metadata": {
    "deletable": true,
    "editable": true
   },
   "source": [
    "Finally, decrypting:"
   ]
  },
  {
   "cell_type": "code",
   "execution_count": 99,
   "metadata": {
    "collapsed": false,
    "deletable": true,
    "editable": true
   },
   "outputs": [
    {
     "data": {
      "text/plain": [
       "0"
      ]
     },
     "execution_count": 99,
     "metadata": {},
     "output_type": "execute_result"
    }
   ],
   "source": [
    "decrypt(sk, sum_ct)"
   ]
  },
  {
   "cell_type": "code",
   "execution_count": 100,
   "metadata": {
    "collapsed": false,
    "deletable": true,
    "editable": true
   },
   "outputs": [
    {
     "data": {
      "text/plain": [
       "1"
      ]
     },
     "execution_count": 100,
     "metadata": {},
     "output_type": "execute_result"
    }
   ],
   "source": [
    "decrypt(sk, carry_ct)"
   ]
  },
  {
   "cell_type": "markdown",
   "metadata": {
    "deletable": true,
    "editable": true
   },
   "source": [
    "This allows us actually to do quite a lot of interesting things. For example, imagine we wanted to add together the numbers $\\texttt{101010}$ and $\\texttt{111100}$, we can perform the addition with everything encrypted by building a little ripple-carry adder:"
   ]
  },
  {
   "cell_type": "code",
   "execution_count": 101,
   "metadata": {
    "collapsed": false,
    "deletable": true,
    "editable": true
   },
   "outputs": [
    {
     "data": {
      "text/plain": [
       "[0, 1, 1, 0, 0, 1]"
      ]
     },
     "execution_count": 101,
     "metadata": {},
     "output_type": "execute_result"
    }
   ],
   "source": [
    "# Use Little-Endian convention\n",
    "num1 = [0, 1, 0, 1, 0, 1]\n",
    "num2 = [0, 0, 1, 1, 1, 1]\n",
    "\n",
    "# Encrypt both numbers\n",
    "enc_num1 = map(lambda pt: encrypt(pk, pt), num1)\n",
    "enc_num2 = map(lambda pt: encrypt(pk, pt), num2)\n",
    "\n",
    "# We start with 0 carry\n",
    "carry_in = encrypt(pk, 0)\n",
    "\n",
    "enc_sum = []\n",
    "\n",
    "for i in range(len(num1)):\n",
    "    \n",
    "    # Sum the ith bits\n",
    "    sum_ct = ZZ(sumC(x=enc_num1[i], y=enc_num2[i], z=carry_in))\n",
    "    \n",
    "    enc_sum.append(sum_ct)\n",
    "    \n",
    "    # Carry to the i+1th bit\n",
    "    carry_out = ZZ(carryC(x=enc_num1[i], y=enc_num2[i], z=carry_in))\n",
    "    \n",
    "    carry_in = carry_out\n",
    "    \n",
    "# Decrypt the result\n",
    "dec_sum = map(lambda ct: decrypt(sk, ct), enc_sum)\n",
    "\n",
    "dec_sum"
   ]
  },
  {
   "cell_type": "markdown",
   "metadata": {
    "deletable": true,
    "editable": true
   },
   "source": [
    "The above says that $\\texttt{101010} + \\texttt{111100} = \\texttt{100110}$ (mod 64), which in decimal is 42 + 60 = 38 (mod 64), which is correct!\n",
    "\n",
    "Making the scheme fully homomorphic\n",
    "--------------------------------------------------------------\n",
    "\n",
    "Sadly, as discussed above, this scheme is limited to a certain number of operations. For a setting of $N = 128$ and $t = 128$, this limit is around 40 multiplications (the reader might need to play around with the powers, as we can still get an accidental correct decryption):"
   ]
  },
  {
   "cell_type": "code",
   "execution_count": 104,
   "metadata": {
    "collapsed": false,
    "deletable": true,
    "editable": true
   },
   "outputs": [
    {
     "data": {
      "text/plain": [
       "1"
      ]
     },
     "execution_count": 104,
     "metadata": {},
     "output_type": "execute_result"
    }
   ],
   "source": [
    "decrypt(sk, c2^40)"
   ]
  },
  {
   "cell_type": "markdown",
   "metadata": {
    "deletable": true,
    "editable": true
   },
   "source": [
    "This is because our offset vector becomes so big, that it cannot be reliably decrypted. However, the homomorphic property comes to the rescue! In particular, if we can evaluate the decyption function homomorphically, we can \"reset\" the error vector to a short one. \n",
    "\n",
    "The idea is this: given two key pairs $(pk1, sk1), (pk2, sk2)$ and some ciphertext $c$ encrypted under $pk1$, we perform the following:\n",
    "1. Encrypt $c$ and $sk1$ under $pk2$.\n",
    "2. Homomorphically decrypt $\\texttt{Enc}_{pk2}(c)$ with $\\texttt{Enc}_{pk2}(sk1)$\n",
    "\n",
    "Then, we will be left with some ciphertext encrypted under $pk2$, and our error vector is refreshed. Then, adding on additional key pairs, we may refresh the error as many times as we wish. Finally, in order to avoid calculating newer and newer key pairs, we are just going to use the pair $(pk, \\texttt{Enc}_{pk}(sk)$, i.e. in step 1 $c$ is doubly encrypted under the same key, and then we homomorphically decrypt to a singly encrypted state. Thus we achieve full homomorphism!\n",
    "\n",
    "__Note__: Correctness of the above scheme should be fairly clear. However, it is not trivial that it is secure. In fact, we must modify the scheme somewhat as well as make a few more (mild) assumptions to prove security. However, these considerations are out of the scope of this work."
   ]
  },
  {
   "cell_type": "markdown",
   "metadata": {
    "deletable": true,
    "editable": true
   },
   "source": [
    "References\n",
    "------------------------------------------------\n",
    "\n",
    "[1] Craig Gentry. A fully homomorphic encryption scheme. Stanford University, 2009.\n",
    "\n",
    "[2] Craig Gentry and Shai Halevi. “Implementing Gentry’s Fully-Homomorphic Encryption Scheme”.\n",
    "In: Advances in Cryptology – EUROCRYPT 2011. Ed. by Kenneth G. Paterson. Berlin, Hei-\n",
    "delberg: Springer Berlin Heidelberg, 2011, pp. 129–148. isbn: 978-3-642-20465-4."
   ]
  }
 ],
 "metadata": {
  "kernelspec": {
   "display_name": "SageMath 8.1",
   "language": "",
   "name": "sagemath"
  },
  "language_info": {
   "codemirror_mode": {
    "name": "ipython",
    "version": 2
   },
   "file_extension": ".py",
   "mimetype": "text/x-python",
   "name": "python",
   "nbconvert_exporter": "python",
   "pygments_lexer": "ipython2",
   "version": "2.7.14"
  }
 },
 "nbformat": 4,
 "nbformat_minor": 2
}
