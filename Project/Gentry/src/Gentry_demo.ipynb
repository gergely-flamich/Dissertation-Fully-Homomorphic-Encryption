{
 "cells": [
  {
   "cell_type": "markdown",
   "metadata": {
    "deletable": true,
    "editable": true
   },
   "source": [
    "Gentry's Somewhat Homomorphic Cipher Demo\n",
    "=======================================\n",
    "\n",
    "Note for using Jupyter: Use $\\texttt{SHIFT + ENTER}$ to execute the code snippets!"
   ]
  },
  {
   "cell_type": "code",
   "execution_count": 13,
   "metadata": {
    "collapsed": true,
    "deletable": true,
    "editable": true
   },
   "outputs": [],
   "source": [
    "load('somewhat_homom_improved.sage')"
   ]
  },
  {
   "cell_type": "code",
   "execution_count": 14,
   "metadata": {
    "collapsed": false
   },
   "outputs": [
    {
     "name": "stdout",
     "output_type": "stream",
     "text": [
      "HNF in correct form after 1 tries.\n"
     ]
    }
   ],
   "source": [
    "pk, sk = key_gen(N=7, t=128)"
   ]
  },
  {
   "cell_type": "code",
   "execution_count": null,
   "metadata": {
    "collapsed": false
   },
   "outputs": [],
   "source": []
  },
  {
   "cell_type": "code",
   "execution_count": null,
   "metadata": {
    "collapsed": false
   },
   "outputs": [],
   "source": [
    "\n"
   ]
  },
  {
   "cell_type": "code",
   "execution_count": 15,
   "metadata": {
    "collapsed": false
   },
   "outputs": [
    {
     "name": "stdout",
     "output_type": "stream",
     "text": [
      "Perturbation is 128 dimensional and has 9 non-zero entries.\n",
      "Namely, u(x) = -xbar^127 + xbar^106 - xbar^98 - xbar^96 - xbar^61 + xbar^52 + xbar^45 + xbar^33 + xbar^16\n",
      "Perturbation is 128 dimensional and has 11 non-zero entries.\n",
      "Namely, u(x) = xbar^114 + xbar^87 + xbar^60 + xbar^52 - xbar^45 + xbar^31 + xbar^30 - xbar^24 - xbar^12 + xbar^10 - xbar^2\n",
      "Perturbation is 128 dimensional and has 11 non-zero entries.\n",
      "Namely, u(x) = xbar^123 + xbar^117 + xbar^95 + xbar^93 - xbar^91 - xbar^65 + xbar^44 - xbar^36 + xbar^14 + xbar^11 + 1\n"
     ]
    }
   ],
   "source": [
    "m1 = 1\n",
    "m2 = 1\n",
    "m3 = 0\n",
    "\n",
    "c1 = encrypt(pk, m1)\n",
    "c2 = encrypt(pk, m2)\n",
    "c3 = encrypt(pk, m3)"
   ]
  },
  {
   "cell_type": "code",
   "execution_count": 29,
   "metadata": {
    "collapsed": false
   },
   "outputs": [
    {
     "data": {
      "text/plain": [
       "0"
      ]
     },
     "execution_count": 29,
     "metadata": {},
     "output_type": "execute_result"
    }
   ],
   "source": [
    "decrypt(sk, -(c1 + c2)^6 )"
   ]
  },
  {
   "cell_type": "code",
   "execution_count": 31,
   "metadata": {
    "collapsed": false
   },
   "outputs": [
    {
     "data": {
      "text/plain": [
       "99300.8342862039"
      ]
     },
     "execution_count": 31,
     "metadata": {},
     "output_type": "execute_result"
    }
   ],
   "source": [
    "N(log((c1 + c2)^6, 2))"
   ]
  },
  {
   "cell_type": "code",
   "execution_count": null,
   "metadata": {
    "collapsed": true
   },
   "outputs": [],
   "source": []
  }
 ],
 "metadata": {
  "kernelspec": {
   "display_name": "SageMath 8.1",
   "language": "",
   "name": "sagemath"
  },
  "language_info": {
   "codemirror_mode": {
    "name": "ipython",
    "version": 2
   },
   "file_extension": ".py",
   "mimetype": "text/x-python",
   "name": "python",
   "nbconvert_exporter": "python",
   "pygments_lexer": "ipython2",
   "version": "2.7.14"
  }
 },
 "nbformat": 4,
 "nbformat_minor": 2
}
