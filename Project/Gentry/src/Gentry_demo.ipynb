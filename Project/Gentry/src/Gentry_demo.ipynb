{
 "cells": [
  {
   "cell_type": "markdown",
   "metadata": {
    "deletable": true,
    "editable": true
   },
   "source": [
    "Gentry's Somewhat Homomorphic Cipher Demo\n",
    "=======================================\n",
    "\n",
    "Note for using Jupyter: Use $\\texttt{SHIFT + ENTER}$ to execute the code snippets!\n",
    "\n",
    "Recall the __Ideal Coset Problem__:\n",
    "\n",
    "Given a security parameter $\\lambda = 1^n$, a ring $R$ with an ideal $I$, a PPT algorithm $\\texttt{Samp}_R$ that samples $R$ according to some distribution, a PPT algorithm $\\texttt{GenIdeal}$ and a PPT adversary $\\mathcal{A}$, the ICP experiment is as follows:\n",
    "\n",
    "1. Run $\\texttt{GenIdeal}(\\lambda, R, I)$ and obtain a tuple $(J^{pk}, J^{sk})$, two generators of the same ideal $J$ such that $I + J = R$.\n",
    "2. Generate $r_0 \\leftarrow \\texttt{Samp}_R$ and $r_1 \\leftarrow R$ and a bit $b \\leftarrow \\{0, 1\\}$. Then, calculate $r = r_b \\mod J^{pk}$.\n",
    "3. $\\mathcal{A}$ is given $R, I, J^{pk}, \\texttt{Samp}_R$ and $r$ and outputs some bit $b' \\in \\{0, 1\\}$.\n",
    "4. Set $\\texttt{Expr}^{ICP}_{\\mathcal{A}, R, I, \\texttt{Samp}_R, \\texttt{GenIdeal}}(n) = 1$ if $b = b'$ and 0 otherwise.\n",
    "\n",
    "Informally, the ICP asks an adversary to decide whether the coset representative it receives was picked uniformly randomly, or whether it was picked according to some different distribution (defined by $\\texttt{Samp}_R$). This would be impossible if the custom sampling function was also uniform, but the hardness assumption is that there are non-uniform sampling algorithms for which it is still hard to succeed.\n",
    "\n",
    "Formally, the __ICP hardness assumption__ says, that the ICP is hard relative to $(R, I ,\\texttt{Samp}_R, \\texttt{GenIdeal})$ if every PPT adversary $\\mathcal{A}$ has negligible probability to succeed, i.e.\n",
    "\n",
    "$$\n",
    "\\texttt{Adv}^{ICP}_{\\mathcal{A}, R, I, \\texttt{Samp}_R, \\texttt{GenIdeal}}(n) = \\left| 2 \\cdot \\texttt{Expr}^{ICP}_{\\mathcal{A}, R, I, \\texttt{Samp}_R, \\texttt{GenIdeal}}(n) - 1 \\right|\\leq \\text{negl}(n).\n",
    "$$\n",
    "\n",
    "The above might seem really far removed, but it has two advantages:\n",
    "1. It yields a straightforward trapdoor, namely the ideal generators $J^{pk}, J^{sk}$ which will serve as the public and private key.\n",
    "2. We can build a scheme based on the ICP and then prove its security based on it. Then, we can \"substitute in\" something more concrete and be guaranteed a secure scheme! (See Section 9.2.3 in the report.)\n",
    "\n",
    "Now, we pick $R = \\mathbb{Z}[x]/f$, where $f(x) = x^N + 1$ for $\\lambda = 1^n$ and $N = 2^n$. It can be shown that $f$ is irreducible and hence $R$ is a field. Pick $I = (2) \\leq R$. Then, define $\\texttt{GenIdeal}$ so that it picks some $v \\in R$ with its coefficients being between some parameter $t$, such that $v \\not\\in I$. Also define $\\texttt{Samp}_R$ to pick $u \\in R$ such that its coefficients are picked from $\\{0, 1\\}$, with 0 having some probability $p$ and 1 with probability $1 - p$. This will mean that the norm of $u$ will be extremely small."
   ]
  },
  {
   "cell_type": "code",
   "execution_count": 3,
   "metadata": {
    "collapsed": true,
    "deletable": true,
    "editable": true
   },
   "outputs": [],
   "source": [
    "load('somewhat_homom.sage')"
   ]
  },
  {
   "cell_type": "code",
   "execution_count": 4,
   "metadata": {
    "collapsed": false
   },
   "outputs": [
    {
     "ename": "TypeError",
     "evalue": "polynomial must have unit leading coefficient",
     "output_type": "error",
     "traceback": [
      "\u001b[0;31m---------------------------------------------------------------------------\u001b[0m",
      "\u001b[0;31mTypeError\u001b[0m                                 Traceback (most recent call last)",
      "\u001b[0;32m<ipython-input-4-bb502341959e>\u001b[0m in \u001b[0;36m<module>\u001b[0;34m()\u001b[0m\n\u001b[0;32m----> 1\u001b[0;31m \u001b[0mpk\u001b[0m\u001b[0;34m,\u001b[0m \u001b[0msk\u001b[0m \u001b[0;34m=\u001b[0m \u001b[0mkey_gen\u001b[0m\u001b[0;34m(\u001b[0m\u001b[0mN\u001b[0m\u001b[0;34m=\u001b[0m\u001b[0mInteger\u001b[0m\u001b[0;34m(\u001b[0m\u001b[0;36m7\u001b[0m\u001b[0;34m)\u001b[0m\u001b[0;34m,\u001b[0m \u001b[0mt\u001b[0m \u001b[0;34m=\u001b[0m \u001b[0mInteger\u001b[0m\u001b[0;34m(\u001b[0m\u001b[0;36m128\u001b[0m\u001b[0;34m)\u001b[0m\u001b[0;34m)\u001b[0m\u001b[0;34m\u001b[0m\u001b[0m\n\u001b[0m",
      "\u001b[0;32m<string>\u001b[0m in \u001b[0;36mkey_gen\u001b[0;34m(N, t, num_retry)\u001b[0m\n",
      "\u001b[0;32m/cs/scratch/gf38/Sage/SageMath/src/sage/rings/ring.pyx\u001b[0m in \u001b[0;36msage.rings.ring.Ring.quotient (build/cythonized/sage/rings/ring.c:7423)\u001b[0;34m()\u001b[0m\n\u001b[1;32m    620\u001b[0m         \"\"\"\n\u001b[1;32m    621\u001b[0m         \u001b[0;32mimport\u001b[0m \u001b[0msage\u001b[0m\u001b[0;34m.\u001b[0m\u001b[0mrings\u001b[0m\u001b[0;34m.\u001b[0m\u001b[0mquotient_ring\u001b[0m\u001b[0;34m\u001b[0m\u001b[0m\n\u001b[0;32m--> 622\u001b[0;31m         \u001b[0;32mreturn\u001b[0m \u001b[0msage\u001b[0m\u001b[0;34m.\u001b[0m\u001b[0mrings\u001b[0m\u001b[0;34m.\u001b[0m\u001b[0mquotient_ring\u001b[0m\u001b[0;34m.\u001b[0m\u001b[0mQuotientRing\u001b[0m\u001b[0;34m(\u001b[0m\u001b[0mself\u001b[0m\u001b[0;34m,\u001b[0m \u001b[0mI\u001b[0m\u001b[0;34m,\u001b[0m \u001b[0mnames\u001b[0m\u001b[0;34m=\u001b[0m\u001b[0mnames\u001b[0m\u001b[0;34m)\u001b[0m\u001b[0;34m\u001b[0m\u001b[0m\n\u001b[0m\u001b[1;32m    623\u001b[0m \u001b[0;34m\u001b[0m\u001b[0m\n\u001b[1;32m    624\u001b[0m     \u001b[0;32mdef\u001b[0m \u001b[0mquo\u001b[0m\u001b[0;34m(\u001b[0m\u001b[0mself\u001b[0m\u001b[0;34m,\u001b[0m \u001b[0mI\u001b[0m\u001b[0;34m,\u001b[0m \u001b[0mnames\u001b[0m\u001b[0;34m=\u001b[0m\u001b[0mNone\u001b[0m\u001b[0;34m)\u001b[0m\u001b[0;34m:\u001b[0m\u001b[0;34m\u001b[0m\u001b[0m\n",
      "\u001b[0;32m/cs/scratch/gf38/Sage/SageMath/local/lib/python2.7/site-packages/sage/rings/quotient_ring.pyc\u001b[0m in \u001b[0;36mQuotientRing\u001b[0;34m(R, I, names)\u001b[0m\n\u001b[1;32m    292\u001b[0m     \u001b[0;32mtry\u001b[0m\u001b[0;34m:\u001b[0m\u001b[0;34m\u001b[0m\u001b[0m\n\u001b[1;32m    293\u001b[0m         \u001b[0;32mif\u001b[0m \u001b[0mI\u001b[0m\u001b[0;34m.\u001b[0m\u001b[0mis_principal\u001b[0m\u001b[0;34m(\u001b[0m\u001b[0;34m)\u001b[0m\u001b[0;34m:\u001b[0m\u001b[0;34m\u001b[0m\u001b[0m\n\u001b[0;32m--> 294\u001b[0;31m             \u001b[0;32mreturn\u001b[0m \u001b[0mR\u001b[0m\u001b[0;34m.\u001b[0m\u001b[0mquotient_by_principal_ideal\u001b[0m\u001b[0;34m(\u001b[0m\u001b[0mI\u001b[0m\u001b[0;34m.\u001b[0m\u001b[0mgen\u001b[0m\u001b[0;34m(\u001b[0m\u001b[0;34m)\u001b[0m\u001b[0;34m,\u001b[0m \u001b[0mnames\u001b[0m\u001b[0;34m)\u001b[0m\u001b[0;34m\u001b[0m\u001b[0m\n\u001b[0m\u001b[1;32m    295\u001b[0m     \u001b[0;32mexcept\u001b[0m \u001b[0;34m(\u001b[0m\u001b[0mAttributeError\u001b[0m\u001b[0;34m,\u001b[0m \u001b[0mNotImplementedError\u001b[0m\u001b[0;34m)\u001b[0m\u001b[0;34m:\u001b[0m\u001b[0;34m\u001b[0m\u001b[0m\n\u001b[1;32m    296\u001b[0m         \u001b[0;32mpass\u001b[0m\u001b[0;34m\u001b[0m\u001b[0m\n",
      "\u001b[0;32m/cs/scratch/gf38/Sage/SageMath/local/lib/python2.7/site-packages/sage/rings/polynomial/polynomial_ring.pyc\u001b[0m in \u001b[0;36mquotient_by_principal_ideal\u001b[0;34m(self, f, names)\u001b[0m\n\u001b[1;32m   1511\u001b[0m         \u001b[0mf\u001b[0m \u001b[0;34m=\u001b[0m \u001b[0mI\u001b[0m\u001b[0;34m.\u001b[0m\u001b[0mgen\u001b[0m\u001b[0;34m(\u001b[0m\u001b[0;34m)\u001b[0m\u001b[0;34m\u001b[0m\u001b[0m\n\u001b[1;32m   1512\u001b[0m         \u001b[0;32mfrom\u001b[0m \u001b[0msage\u001b[0m\u001b[0;34m.\u001b[0m\u001b[0mrings\u001b[0m\u001b[0;34m.\u001b[0m\u001b[0mpolynomial\u001b[0m\u001b[0;34m.\u001b[0m\u001b[0mpolynomial_quotient_ring\u001b[0m \u001b[0;32mimport\u001b[0m \u001b[0mPolynomialQuotientRing\u001b[0m\u001b[0;34m\u001b[0m\u001b[0m\n\u001b[0;32m-> 1513\u001b[0;31m         \u001b[0;32mreturn\u001b[0m \u001b[0mPolynomialQuotientRing\u001b[0m\u001b[0;34m(\u001b[0m\u001b[0mself\u001b[0m\u001b[0;34m,\u001b[0m \u001b[0mf\u001b[0m\u001b[0;34m,\u001b[0m \u001b[0mnames\u001b[0m\u001b[0;34m)\u001b[0m\u001b[0;34m\u001b[0m\u001b[0m\n\u001b[0m\u001b[1;32m   1514\u001b[0m \u001b[0;34m\u001b[0m\u001b[0m\n\u001b[1;32m   1515\u001b[0m     \u001b[0;32mdef\u001b[0m \u001b[0mweyl_algebra\u001b[0m\u001b[0;34m(\u001b[0m\u001b[0mself\u001b[0m\u001b[0;34m)\u001b[0m\u001b[0;34m:\u001b[0m\u001b[0;34m\u001b[0m\u001b[0m\n",
      "\u001b[0;32m/cs/scratch/gf38/Sage/SageMath/local/lib/python2.7/site-packages/sage/rings/polynomial/polynomial_quotient_ring.pyc\u001b[0m in \u001b[0;36mPolynomialQuotientRing\u001b[0;34m(ring, polynomial, names)\u001b[0m\n\u001b[1;32m    179\u001b[0m     \u001b[0mc\u001b[0m \u001b[0;34m=\u001b[0m \u001b[0mpolynomial\u001b[0m\u001b[0;34m.\u001b[0m\u001b[0mleading_coefficient\u001b[0m\u001b[0;34m(\u001b[0m\u001b[0;34m)\u001b[0m\u001b[0;34m\u001b[0m\u001b[0m\n\u001b[1;32m    180\u001b[0m     \u001b[0;32mif\u001b[0m \u001b[0;32mnot\u001b[0m \u001b[0mc\u001b[0m\u001b[0;34m.\u001b[0m\u001b[0mis_unit\u001b[0m\u001b[0;34m(\u001b[0m\u001b[0;34m)\u001b[0m\u001b[0;34m:\u001b[0m\u001b[0;34m\u001b[0m\u001b[0m\n\u001b[0;32m--> 181\u001b[0;31m         \u001b[0;32mraise\u001b[0m \u001b[0mTypeError\u001b[0m\u001b[0;34m(\u001b[0m\u001b[0;34m\"polynomial must have unit leading coefficient\"\u001b[0m\u001b[0;34m)\u001b[0m\u001b[0;34m\u001b[0m\u001b[0m\n\u001b[0m\u001b[1;32m    182\u001b[0m     \u001b[0;32mif\u001b[0m \u001b[0mnames\u001b[0m \u001b[0;32mis\u001b[0m \u001b[0mNone\u001b[0m\u001b[0;34m:\u001b[0m\u001b[0;34m\u001b[0m\u001b[0m\n\u001b[1;32m    183\u001b[0m         \u001b[0mnames\u001b[0m \u001b[0;34m=\u001b[0m \u001b[0mtuple\u001b[0m\u001b[0;34m(\u001b[0m\u001b[0;34m[\u001b[0m\u001b[0mx\u001b[0m \u001b[0;34m+\u001b[0m \u001b[0;34m'bar'\u001b[0m \u001b[0;32mfor\u001b[0m \u001b[0mx\u001b[0m \u001b[0;32min\u001b[0m \u001b[0mring\u001b[0m\u001b[0;34m.\u001b[0m\u001b[0mvariable_names\u001b[0m\u001b[0;34m(\u001b[0m\u001b[0;34m)\u001b[0m\u001b[0;34m]\u001b[0m\u001b[0;34m)\u001b[0m\u001b[0;34m\u001b[0m\u001b[0m\n",
      "\u001b[0;31mTypeError\u001b[0m: polynomial must have unit leading coefficient"
     ]
    }
   ],
   "source": [
    "pk, sk = key_gen(N=7, t = 128)"
   ]
  },
  {
   "cell_type": "code",
   "execution_count": 13,
   "metadata": {
    "collapsed": true,
    "deletable": true,
    "editable": true
   },
   "outputs": [],
   "source": [
    "load('somewhat_homom_improved.sage')"
   ]
  },
  {
   "cell_type": "code",
   "execution_count": 14,
   "metadata": {
    "collapsed": false
   },
   "outputs": [
    {
     "name": "stdout",
     "output_type": "stream",
     "text": [
      "HNF in correct form after 1 tries.\n"
     ]
    }
   ],
   "source": [
    "pk, sk = key_gen(N=7, t=128)"
   ]
  },
  {
   "cell_type": "code",
   "execution_count": null,
   "metadata": {
    "collapsed": false
   },
   "outputs": [],
   "source": []
  },
  {
   "cell_type": "code",
   "execution_count": null,
   "metadata": {
    "collapsed": false
   },
   "outputs": [],
   "source": [
    "\n"
   ]
  },
  {
   "cell_type": "code",
   "execution_count": 15,
   "metadata": {
    "collapsed": false
   },
   "outputs": [
    {
     "name": "stdout",
     "output_type": "stream",
     "text": [
      "Perturbation is 128 dimensional and has 9 non-zero entries.\n",
      "Namely, u(x) = -xbar^127 + xbar^106 - xbar^98 - xbar^96 - xbar^61 + xbar^52 + xbar^45 + xbar^33 + xbar^16\n",
      "Perturbation is 128 dimensional and has 11 non-zero entries.\n",
      "Namely, u(x) = xbar^114 + xbar^87 + xbar^60 + xbar^52 - xbar^45 + xbar^31 + xbar^30 - xbar^24 - xbar^12 + xbar^10 - xbar^2\n",
      "Perturbation is 128 dimensional and has 11 non-zero entries.\n",
      "Namely, u(x) = xbar^123 + xbar^117 + xbar^95 + xbar^93 - xbar^91 - xbar^65 + xbar^44 - xbar^36 + xbar^14 + xbar^11 + 1\n"
     ]
    }
   ],
   "source": [
    "m1 = 1\n",
    "m2 = 1\n",
    "m3 = 0\n",
    "\n",
    "c1 = encrypt(pk, m1)\n",
    "c2 = encrypt(pk, m2)\n",
    "c3 = encrypt(pk, m3)"
   ]
  },
  {
   "cell_type": "code",
   "execution_count": 29,
   "metadata": {
    "collapsed": false
   },
   "outputs": [
    {
     "data": {
      "text/plain": [
       "0"
      ]
     },
     "execution_count": 29,
     "metadata": {},
     "output_type": "execute_result"
    }
   ],
   "source": [
    "decrypt(sk, -(c1 + c2)^6 )"
   ]
  },
  {
   "cell_type": "code",
   "execution_count": 31,
   "metadata": {
    "collapsed": false
   },
   "outputs": [
    {
     "data": {
      "text/plain": [
       "99300.8342862039"
      ]
     },
     "execution_count": 31,
     "metadata": {},
     "output_type": "execute_result"
    }
   ],
   "source": [
    "N(log((c1 + c2)^6, 2))"
   ]
  },
  {
   "cell_type": "code",
   "execution_count": null,
   "metadata": {
    "collapsed": true
   },
   "outputs": [],
   "source": []
  }
 ],
 "metadata": {
  "kernelspec": {
   "display_name": "SageMath 8.1",
   "language": "",
   "name": "sagemath"
  },
  "language_info": {
   "codemirror_mode": {
    "name": "ipython",
    "version": 2
   },
   "file_extension": ".py",
   "mimetype": "text/x-python",
   "name": "python",
   "nbconvert_exporter": "python",
   "pygments_lexer": "ipython2",
   "version": "2.7.14"
  }
 },
 "nbformat": 4,
 "nbformat_minor": 2
}
