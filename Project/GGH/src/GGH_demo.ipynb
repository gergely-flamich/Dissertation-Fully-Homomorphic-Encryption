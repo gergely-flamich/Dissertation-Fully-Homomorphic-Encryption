{
 "cells": [
  {
   "cell_type": "markdown",
   "metadata": {
    "deletable": true,
    "editable": true
   },
   "source": [
    "GGH Cipher Demo\n",
    "======================================\n",
    "\n",
    "In this notebook, we present a basic walkthrough of the cryptosystem invented by Goldreich, Goldwasser and Halevi in 1997 [1].\n",
    "\n",
    "__Note for using Jupyter:__ Use $\\texttt{SHIFT + ENTER}$ to execute the code snippets!\n",
    "\n",
    "We begin with some theoretical discussion, in particular, let's see the hardness assumption on which we can base the cipher.\n",
    "\n",
    "Recall the __$\\gamma(n)$-Closest Vector Problem (CVP)__:\n",
    "\n",
    "Given a security parameter $\\lambda = 1^n$, approximation factor $\\gamma(n)$, a PPT adversary $\\mathcal{A}$ and PPT algorithm $\\texttt{GenCVP}$, the CVP experiment is defined as follows:\n",
    "\n",
    "1. Generate $(\\mathbf{u}, P, S) \\leftarrow \\texttt{GenCVP}(\\lambda)$. Here $P, S \\in \\text{GL}_n(\\mathbb{Q})$ such that $\\mathcal{L}(P) = \\mathcal{L}(S)$ and $\\mathbf{u} \\in \\text{Span}(P)$.\n",
    "2. Run $\\mathbf{v} \\leftarrow \\mathcal{A}(\\mathbf{u},P)$, where $\\mathbf{v} \\in \\mathcal{L}(S)$\n",
    "3. The adversary succeeds iff $||\\mathbf{v} - \\mathbf{u}|| \\leq \\gamma(n)\\cdot ||\\mathbf{v} - \\mathbf{w}||$ for all $\\mathbf{w} \\in \\mathcal{L}(P)$.\n",
    "\n",
    "The hardness assumption of the above then is as follows:\n",
    "\n",
    "$\\gamma(n)$-CVP is hard relative to $\\texttt{GenCVP}$ if every adversary succeeds with negligible advantage:\n",
    "\n",
    "$$\n",
    "    \\texttt{Adv}^{\\text{cvp}}_{\\mathcal{A}, \\texttt{GenCVP}}(n) = \n",
    "    2 \\cdot \\mathbb{P}(\\texttt{Expr}^{\\text{cvp}}_{\\mathcal{A}, \\texttt{GenCVP}}(n) - 1 \\leq \\text{negl}(n).\n",
    "$$\n",
    "\n",
    "Informally, the CVP assumes that we can generate a lattice basis in PPT, such that given the basis and some vector from the ambient space, it is hard to find the closest lattice vector to the point in the ambient space.\n",
    "\n",
    "The trapdoor we can use here follows from a result by Laszlo Babai, who showed given that the vectors of a lattice basis are sufficiently orthogonal to each other (formally, the basis is Lovasz reduced) we always recover the $\\gamma(n)$-closest vector, where\n",
    "\n",
    "$$\n",
    "    \\gamma(n) = 1 + 2n\\cdot\\left(\\frac{9}{2}\\right)^{\\frac{n}{2}}\n",
    "$$\n",
    "with $n$ being the dimension of the lattice.\n",
    "\n",
    "Hence, we can exploit this by setting the public key as a \"bad\" basis, i.e. one with almost parallel vectors in it and setting the private key as a \"good\" basis, i.e. one with almost orthogonal vectors in it."
   ]
  },
  {
   "cell_type": "code",
   "execution_count": 1,
   "metadata": {
    "collapsed": false,
    "deletable": true,
    "editable": true
   },
   "outputs": [],
   "source": [
    "from sage.modules.free_module_integer import IntegerLattice\n",
    "load('ggh.sage')"
   ]
  },
  {
   "cell_type": "markdown",
   "metadata": {
    "deletable": true,
    "editable": true
   },
   "source": [
    "Key Generation\n",
    "---------------------------------------------------------------------\n",
    "\n",
    "Since our public and private bases have to generate the same lattice, it makes sense to find a \"good\" basis first, and then come up with a \"bad\" one based on it.\n",
    "\n",
    "Hence, for the private basis, given a security parameter $\\lambda = 1^n$ we pick $n$ random vectors from an n-dimensional hypercube with side lengths $2n$ (in $\\mathbb{Z}^n$). We check how orthogonal this basis is by calculating the basis' Hadamard ratio and if it is above a certain threshold, we accept it by setting it as our secret key.\n",
    "\n",
    "Then, we calculate the Hermite Normal Form (HNF) of our good basis, and set it as our public key. The reason why we do this is because the HNF of any lattice basis always exists, it can be calculated in polynomial time and in a sense it is the \"worst\" possible basis (see [2] for a rigorous explanation).\n",
    "\n",
    "Below, we perform exactly this, by generating two 20-dimensional bases:"
   ]
  },
  {
   "cell_type": "code",
   "execution_count": 2,
   "metadata": {
    "collapsed": false,
    "deletable": true,
    "editable": true
   },
   "outputs": [
    {
     "name": "stdout",
     "output_type": "stream",
     "text": [
      "Hadamard ratio of PubK: 3.2652e-29\n",
      "Hadamard ratio of PrivK: 0.71773\n"
     ]
    }
   ],
   "source": [
    "pk, sk = key_gen(20);"
   ]
  },
  {
   "cell_type": "markdown",
   "metadata": {
    "deletable": true,
    "editable": true
   },
   "source": [
    "Encryption\n",
    "---------------------------------------------------------------------\n",
    "\n",
    "Given a public key $pk = P$ and some message $m$, we first convert $m$ to a (list of) $n$-dimensional vector $\\mathbf{m}$. Then, we generate some small perturbation, by picking an $n$-dimensional vector $\\mathbf{r}$ with each of its entries chosen uniformly such that $|r_i| \\leq \\delta$ for some small $\\delta$.\n",
    "Finally, we calculate and output the ciphertext\n",
    "\n",
    "$$\n",
    "    \\mathbf{c} = \\mathbf{m} \\times P + \\mathbf{r}.\n",
    "$$\n",
    "\n",
    "In our implementation, we chose $\\delta = 4$, and the way we perform the message conversion, is by taking a string and converting it to a list of the ASCII codes of its characters. "
   ]
  },
  {
   "cell_type": "code",
   "execution_count": 3,
   "metadata": {
    "collapsed": false,
    "deletable": true,
    "editable": true
   },
   "outputs": [
    {
     "name": "stdout",
     "output_type": "stream",
     "text": [
      "perturbation: [-2 -4 -1 -4  1 -4  0 -2  0  0  2  1 -4 -1  3  0  0 -3 -1  3]\n",
      "perturbation: [ 1  2 -1  3 -4 -4  3 -4  4  4 -1  3 -1  3  2 -1  0  1  0  2]\n",
      "perturbation: [ 4 -4 -3  4  1 -4  2  4 -3 -3 -1  3  3  1 -1 -2 -2 -3 -1  2]\n",
      "perturbation: [ 4 -4 -3  4 -2 -1 -1  0 -2 -1  0 -2 -4 -1 -4  4  2  4 -1 -1]\n"
     ]
    }
   ],
   "source": [
    "m = \"You can't get to the moon by climbing successively taller trees.\"\n",
    "\n",
    "c = encrypt(pk, m)"
   ]
  },
  {
   "cell_type": "markdown",
   "metadata": {
    "deletable": true,
    "editable": true
   },
   "source": [
    "Decryption\n",
    "---------------------------------------------------------------------\n",
    "\n",
    "Given some secret key $sk = (P, S)$ and some ciphertext $\\mathbf{c}$, we use Babai's algorithm to recover the closest lattice vector. Thus, we calculate and output\n",
    "\n",
    "$$\n",
    "    \\mathbf{m}' = \\lfloor \\mathbf{c} \\times S^{-1} \\rceil \\times S \\times P^{-1}.\n",
    "$$\n",
    "\n",
    "Correctness\n",
    "----------------------------------------------------------------------\n",
    "\n",
    "To see the correctness of the above procedure, given $pk = P, sk = (P, S)$ and some (converted) message $\\mathbf{m}$, consider\n",
    "\n",
    "$$\n",
    "    \\mathbf{m'} = \\texttt{Dec}_{sk}(\\texttt{Enc}_{pk}(\\mathbf{m}))\\\\\n",
    "    = \\lfloor (\\mathbf{m} \\times P + \\mathbf{r})\\times S^{-1} \\rceil \\times S \\times P^{-1}.\n",
    "$$\n",
    "\n",
    "Focus on the rounding operation for a moment. We know that $\\mathbf{m} \\times P$ is in $\\mathcal{L}(P) = \\mathcal{L}(S)$, so $\\mathbf{m} \\times P \\times S^{-1}$ will be a vector with integer coefficients. Then, the rounding will give us the closest lattice vector as long as the entries of $\\mathbf{r}\\times S^{-1}$ are in the range $[-1/2, 1/2)$ (this is why we need to pick a sufficiently small $\\delta$). Assuming it is the case, after the rounding operation we have\n",
    "\n",
    "$$\n",
    "    \\lfloor (\\mathbf{m} \\times P + \\mathbf{r})\\times S^{-1} \\rceil =\n",
    "    \\mathbf{m} \\times P \\times S^{-1}\n",
    "$$\n",
    "\n",
    "Substituting this into the above equation, we get\n",
    "\n",
    "$$\n",
    "    \\mathbf{m'} = \\mathbf{m} \\times P \\times S^{-1} \\times S \\times P^{-1} = \\mathbf{m},\n",
    "$$\n",
    "thus the scheme is correct.\n",
    "\n",
    "To see this working in practice:"
   ]
  },
  {
   "cell_type": "code",
   "execution_count": 4,
   "metadata": {
    "collapsed": false,
    "deletable": true,
    "editable": true
   },
   "outputs": [
    {
     "data": {
      "text/plain": [
       "\"You can't get to the moon by climbing successively taller trees.\""
      ]
     },
     "execution_count": 4,
     "metadata": {},
     "output_type": "execute_result"
    }
   ],
   "source": [
    "decrypt(sk, c)"
   ]
  },
  {
   "cell_type": "markdown",
   "metadata": {
    "deletable": true,
    "editable": true
   },
   "source": [
    "Visual representation of the cipher\n",
    "---------------------------------------------------------------------\n",
    "\n",
    "Since we are dealing with geometric objects, we can get a nice visual intuition about how the cipher works, at least in 2 dimensions:\n",
    "\n",
    "![alt GGH visual](GGH.png)\n",
    "\n",
    "Here the green arrows represent the private basis $S$, the red arrows the public basis $P$.\n",
    "\n",
    "Then, assume our message is given by the coordinates of the yellow vertex, the perturbation is the yellow vector and the blue vertex is the ciphertext we transmit.\n",
    "\n",
    "Then, using the rounding operation, if we try to use the public basis, we will decode to the red vertex as it is the closest point in the public basis' fundamental domain! However, if we use the private basis, we correctly decode to the yellow vertex, recovering the message.\n",
    "\n",
    "From this picture, we also see that since we are relying on an approximation factor of $1$, the perturbation vector cannot be too long."
   ]
  },
  {
   "cell_type": "markdown",
   "metadata": {
    "collapsed": false,
    "deletable": true,
    "editable": true
   },
   "source": [
    "Security Considerations\n",
    "--------------------------------------------------------------\n",
    "\n",
    "We note that the above cipher is secure, as long as it is hard to transform the public basis $P$ into a good basis $B$. The best currently known algorithm to do this is the so-called LLL algorithm invented by Lenstra, Lenstra and Lovasz, which runs in exponential time in the dimension of the lattice. However, we still have to make sure that our lattice of high enough dimension that the exponential nature starts to matter. This means that the recommended lattice dimension is $n > 500$. \n",
    "\n",
    "To demonstrate this issue, we will break scheme as follows:"
   ]
  },
  {
   "cell_type": "code",
   "execution_count": 5,
   "metadata": {
    "collapsed": false,
    "deletable": true,
    "editable": true
   },
   "outputs": [
    {
     "data": {
      "text/plain": [
       "\"You can't get to the moon by climbing successively taller trees.\""
      ]
     },
     "execution_count": 5,
     "metadata": {},
     "output_type": "execute_result"
    }
   ],
   "source": [
    "L = IntegerLattice(pk[0], lll_reduce=False)\n",
    "\n",
    "B = L.LLL()\n",
    "\n",
    "broken_sk = (B, pk[0].inverse())\n",
    "\n",
    "decrypt(broken_sk, c)"
   ]
  },
  {
   "cell_type": "markdown",
   "metadata": {
    "collapsed": true,
    "deletable": true,
    "editable": true
   },
   "source": [
    "References\n",
    "--------------------------\n",
    "\n",
    "[1] Oded Goldreich, Shafi Goldwasser, and Shai Halevi. “Public-key cryptosystems from lattice\n",
    "reduction problems”. In: Annual International Cryptology Conference. Springer. 1997, pp. 112–\n",
    "131.\n",
    "\n",
    "[2] Daniele Micciancio. “Improving lattice based cryptosystems using the Hermite normal form”.\n",
    "In: Cryptography and lattices. Springer, 2001, pp. 126–145."
   ]
  },
  {
   "cell_type": "code",
   "execution_count": null,
   "metadata": {
    "collapsed": true,
    "deletable": true,
    "editable": true
   },
   "outputs": [],
   "source": []
  }
 ],
 "metadata": {
  "kernelspec": {
   "display_name": "SageMath 8.1",
   "language": "",
   "name": "sagemath"
  },
  "language_info": {
   "codemirror_mode": {
    "name": "ipython",
    "version": 2
   },
   "file_extension": ".py",
   "mimetype": "text/x-python",
   "name": "python",
   "nbconvert_exporter": "python",
   "pygments_lexer": "ipython2",
   "version": "2.7.14"
  }
 },
 "nbformat": 4,
 "nbformat_minor": 2
}
