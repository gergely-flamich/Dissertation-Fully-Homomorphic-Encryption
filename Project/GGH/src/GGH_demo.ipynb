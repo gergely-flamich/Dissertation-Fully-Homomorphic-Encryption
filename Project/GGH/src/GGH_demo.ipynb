{
 "cells": [
  {
   "cell_type": "markdown",
   "metadata": {
    "deletable": true,
    "editable": true
   },
   "source": [
    "GGH Cipher Demo\n",
    "======================================\n",
    "\n",
    "In this notebook, we present a basic walkthrough of the cryptosystem invented by Goldreich, Goldwasser and Halevi in 1997 [1].\n",
    "\n",
    "__Note for using Jupyter:__ Use $\\texttt{SHIFT + ENTER}$ to execute the code snippets!\n",
    "\n",
    "We begin with some theoretical discussion, in particular, let's see the hardness assumption on which we can base the cipher.\n",
    "\n",
    "Recall the __$\\gamma(n)$-Closest Vector Problem (CVP)__:\n",
    "\n",
    "Given a security parameter $\\lambda = 1^n$, approximation factor $\\gamma(n)$, a PPT adversary $\\mathcal{A}$ and PPT algorithm $\\texttt{GenCVP}$, the CVP experiment is defined as follows:\n",
    "\n",
    "1. Generate $(\\mathbf{u}, P, S) \\leftarrow \\texttt{GenCVP}(\\lambda)$. Here $P, S \\in \\text{GL}_n(\\mathbb{Q})$ such that $\\mathcal{L}(P) = \\mathcal{L}(S)$ and $\\mathbf{u} \\in \\text{Span}(P)$.\n",
    "2. Run $\\mathbf{v} \\leftarrow \\mathcal{A}(\\mathbf{u},P)$, where $\\mathbf{v} \\in \\mathcal{L}(S)$\n",
    "3. The adversary succeeds iff $||\\mathbf{v} - \\mathbf{u}|| \\leq \\gamma(n)\\cdot ||\\mathbf{v} - \\mathbf{w}||$ for all $\\mathbf{w} \\in \\mathcal{L}(P)$.\n",
    "\n",
    "The hardness assumption of the above then is as follows:\n",
    "\n",
    "$\\gamma(n)$-CVP is hard relative to $\\texttt{GenCVP}$ if every adversary succeeds with negligible advantage:\n",
    "\n",
    "$$\n",
    "    \\texttt{Adv}^{\\text{cvp}}_{\\mathcal{A}, \\texttt{GenCVP}}(n) = \n",
    "    \\left| 2 \\cdot \\mathbb{P}(\\texttt{Expr}^{\\text{cvp}}_{\\mathcal{A}, \\texttt{GenCVP}}(n) - 1 \\right| \\leq \\text{negl}(n).\n",
    "$$\n",
    "\n",
    "Informally, the CVP assumes that we can generate a lattice basis in PPT, such that given the basis and some vector from the ambient space, it is hard to find the closest lattice vector to the point in the ambient space.\n",
    "\n",
    "The trapdoor we can use here follows from a result by Laszlo Babai, who showed given that the vectors of a lattice basis are sufficiently orthogonal to each other (formally, the basis is Lovasz reduced) we always recover the $\\gamma(n)$-closest vector, where\n",
    "\n",
    "$$\n",
    "    \\gamma(n) = 1 + 2n\\cdot\\left(\\frac{9}{2}\\right)^{\\frac{n}{2}}\n",
    "$$\n",
    "with $n$ being the dimension of the lattice.\n",
    "\n",
    "Hence, we can exploit this by setting the public key as a \"bad\" basis, i.e. one with almost parallel vectors in it and setting the private key as a \"good\" basis, i.e. one with almost orthogonal vectors in it."
   ]
  },
  {
   "cell_type": "code",
   "execution_count": 2,
   "metadata": {
    "collapsed": false,
    "deletable": true,
    "editable": true
   },
   "outputs": [],
   "source": [
    "from sage.modules.free_module_integer import IntegerLattice\n",
    "load('ggh.sage')"
   ]
  },
  {
   "cell_type": "markdown",
   "metadata": {
    "deletable": true,
    "editable": true
   },
   "source": [
    "Key Generation\n",
    "---------------------------------------------------------------------\n",
    "\n",
    "Since our public and private bases have to generate the same lattice, it makes sense to find a \"good\" basis first, and then come up with a \"bad\" one based on it.\n",
    "\n",
    "Hence, for the private basis, given a security parameter $\\lambda = 1^n$ we pick $n$ random vectors from an n-dimensional hypercube with side lengths $2n$ (in $\\mathbb{Z}^n$). We check how orthogonal this basis is by calculating the basis' Hadamard ratio and if it is above a certain threshold, we accept it by setting it as our secret key.\n",
    "\n",
    "Then, we calculate the Hermite Normal Form (HNF) of our good basis, and set it as our public key. The reason why we do this is because the HNF of any lattice basis always exists, it can be calculated in polynomial time and in a sense it is the \"worst\" possible basis (see [2] for a rigorous explanation).\n",
    "\n",
    "Below, we perform exactly this, by generating two 20-dimensional bases:"
   ]
  },
  {
   "cell_type": "code",
   "execution_count": 9,
   "metadata": {
    "collapsed": false,
    "deletable": true,
    "editable": true
   },
   "outputs": [
    {
     "name": "stdout",
     "output_type": "stream",
     "text": [
      "Hadamard ratio of PubK: 2.101e-30\n",
      "Hadamard ratio of PrivK: 0.70681\n"
     ]
    }
   ],
   "source": [
    "pk, sk = key_gen(20);"
   ]
  },
  {
   "cell_type": "markdown",
   "metadata": {
    "deletable": true,
    "editable": true
   },
   "source": [
    "Encryption\n",
    "---------------------------------------------------------------------\n",
    "\n",
    "Given a public key $pk = P$ and some message $m$, we first convert $m$ to a (list of) $n$-dimensional vector $\\mathbf{m}$. Then, we generate some small perturbation, by picking an $n$-dimensional vector $\\mathbf{r}$ with each of its entries chosen uniformly such that $|r_i| \\leq \\delta$ for some small $\\delta$.\n",
    "Finally, we calculate and output the ciphertext\n",
    "\n",
    "$$\n",
    "    \\mathbf{c} = \\mathbf{m} \\times P + \\mathbf{r}.\n",
    "$$\n",
    "\n",
    "In our implementation, we chose $\\delta = 4$, and the way we perform the message conversion, is by taking a string and converting it to a list of the ASCII codes of its characters. "
   ]
  },
  {
   "cell_type": "code",
   "execution_count": 10,
   "metadata": {
    "collapsed": false,
    "deletable": true,
    "editable": true
   },
   "outputs": [
    {
     "name": "stdout",
     "output_type": "stream",
     "text": [
      "perturbation: [ 3  3  2  3  0  4  1  2 -3 -4 -3  3  3  1  2  0 -1  3  3  2]\n",
      "perturbation: [-1 -1  3  4 -3  2  0 -4 -4  0  0  1 -4  0  4  2  2 -3  3 -2]\n",
      "perturbation: [-1 -4  4 -4 -1 -4  0 -4  0  1  2 -1 -1  1 -1  4  4  2  2 -2]\n",
      "perturbation: [-1 -2  0  1  0  4 -4  2 -1  1  3  2  3 -4 -2 -2 -4  2  0  0]\n"
     ]
    }
   ],
   "source": [
    "m = \"You can't get to the moon by climbing successively taller trees.\"\n",
    "\n",
    "c = encrypt(pk, m)"
   ]
  },
  {
   "cell_type": "markdown",
   "metadata": {
    "deletable": true,
    "editable": true
   },
   "source": [
    "Decryption\n",
    "---------------------------------------------------------------------\n",
    "\n",
    "Given some secret key $sk = (P, S)$ and some ciphertext $\\mathbf{c}$, we use Babai's algorithm to recover the closest lattice vector. Thus, we calculate and output\n",
    "\n",
    "$$\n",
    "    \\mathbf{m}' = \\lfloor \\mathbf{c} \\times S^{-1} \\rceil \\times S \\times P^{-1}.\n",
    "$$\n",
    "\n",
    "Correctness\n",
    "----------------------------------------------------------------------\n",
    "\n",
    "To see the correctness of the above procedure, given $pk = P, sk = (P, S)$ and some (converted) message $\\mathbf{m}$, consider\n",
    "\n",
    "$$\n",
    "    \\mathbf{m'} = \\texttt{Dec}_{sk}(\\texttt{Enc}_{pk}(\\mathbf{m}))\\\\\n",
    "    = \\lfloor (\\mathbf{m} \\times P + \\mathbf{r})\\times S^{-1} \\rceil \\times S \\times P^{-1}.\n",
    "$$\n",
    "\n",
    "Focus on the rounding operation for a moment. We know that $\\mathbf{m} \\times P$ is in $\\mathcal{L}(P) = \\mathcal{L}(S)$, so $\\mathbf{m} \\times P \\times S^{-1}$ will be a vector with integer coefficients. Then, the rounding will give us the closest lattice vector as long as the entries of $\\mathbf{r}\\times S^{-1}$ are in the range $[-1/2, 1/2)$ (this is why we need to pick a sufficiently small $\\delta$). Assuming it is the case, after the rounding operation we have\n",
    "\n",
    "$$\n",
    "    \\lfloor (\\mathbf{m} \\times P + \\mathbf{r})\\times S^{-1} \\rceil =\n",
    "    \\mathbf{m} \\times P \\times S^{-1}\n",
    "$$\n",
    "\n",
    "Substituting this into the above equation, we get\n",
    "\n",
    "$$\n",
    "    \\mathbf{m'} = \\mathbf{m} \\times P \\times S^{-1} \\times S \\times P^{-1} = \\mathbf{m},\n",
    "$$\n",
    "thus the scheme is correct.\n",
    "\n",
    "To see this working in practice:"
   ]
  },
  {
   "cell_type": "code",
   "execution_count": 11,
   "metadata": {
    "collapsed": false,
    "deletable": true,
    "editable": true
   },
   "outputs": [
    {
     "data": {
      "text/plain": [
       "\"You can't get to the moon by climbing successively taller trees.\""
      ]
     },
     "execution_count": 11,
     "metadata": {},
     "output_type": "execute_result"
    }
   ],
   "source": [
    "decrypt(sk, c)"
   ]
  },
  {
   "cell_type": "markdown",
   "metadata": {
    "collapsed": false,
    "deletable": true,
    "editable": true
   },
   "source": [
    "Security Considerations\n",
    "--------------------------------------------------------------\n",
    "\n",
    "We note that the above cipher is secure, as long as it is hard to transform the public basis $P$ into a good basis $B$. The best currently known algorithm to do this is the so-called LLL algorithm invented by Lenstra, Lenstra and Lovasz, which runs in exponential time in the dimension of the lattice. However, we still have to make sure that our lattice of high enough dimension that the exponential nature starts to matter. This means that the recommended lattice dimension is $n > 500$. \n",
    "\n",
    "To demonstrate this issue, we will break scheme as follows:"
   ]
  },
  {
   "cell_type": "code",
   "execution_count": 12,
   "metadata": {
    "collapsed": false
   },
   "outputs": [
    {
     "ename": "ImportError",
     "evalue": "libqd.so.0: cannot open shared object file: No such file or directory",
     "output_type": "error",
     "traceback": [
      "\u001b[0;31m---------------------------------------------------------------------------\u001b[0m",
      "\u001b[0;31mImportError\u001b[0m                               Traceback (most recent call last)",
      "\u001b[0;32m<ipython-input-12-4c6d6d0c1de0>\u001b[0m in \u001b[0;36m<module>\u001b[0;34m()\u001b[0m\n\u001b[1;32m      1\u001b[0m \u001b[0mL\u001b[0m \u001b[0;34m=\u001b[0m \u001b[0mIntegerLattice\u001b[0m\u001b[0;34m(\u001b[0m\u001b[0mpk\u001b[0m\u001b[0;34m[\u001b[0m\u001b[0mInteger\u001b[0m\u001b[0;34m(\u001b[0m\u001b[0;36m0\u001b[0m\u001b[0;34m)\u001b[0m\u001b[0;34m]\u001b[0m\u001b[0;34m,\u001b[0m \u001b[0mlll_reduce\u001b[0m\u001b[0;34m=\u001b[0m\u001b[0mFalse\u001b[0m\u001b[0;34m)\u001b[0m\u001b[0;34m\u001b[0m\u001b[0m\n\u001b[1;32m      2\u001b[0m \u001b[0;34m\u001b[0m\u001b[0m\n\u001b[0;32m----> 3\u001b[0;31m \u001b[0mB\u001b[0m \u001b[0;34m=\u001b[0m \u001b[0mL\u001b[0m\u001b[0;34m.\u001b[0m\u001b[0mLLL\u001b[0m\u001b[0;34m(\u001b[0m\u001b[0;34m)\u001b[0m\u001b[0;34m\u001b[0m\u001b[0m\n\u001b[0m\u001b[1;32m      4\u001b[0m \u001b[0;34m\u001b[0m\u001b[0m\n\u001b[1;32m      5\u001b[0m \u001b[0mbroken_sk\u001b[0m \u001b[0;34m=\u001b[0m \u001b[0;34m(\u001b[0m\u001b[0mB\u001b[0m\u001b[0;34m,\u001b[0m \u001b[0mpk\u001b[0m\u001b[0;34m[\u001b[0m\u001b[0mInteger\u001b[0m\u001b[0;34m(\u001b[0m\u001b[0;36m0\u001b[0m\u001b[0;34m)\u001b[0m\u001b[0;34m]\u001b[0m\u001b[0;34m.\u001b[0m\u001b[0minverse\u001b[0m\u001b[0;34m(\u001b[0m\u001b[0;34m)\u001b[0m\u001b[0;34m)\u001b[0m\u001b[0;34m\u001b[0m\u001b[0m\n",
      "\u001b[0;32m/cs/scratch/gf38/Sage/SageMath/local/lib/python2.7/site-packages/sage/modules/free_module_integer.pyc\u001b[0m in \u001b[0;36mLLL\u001b[0;34m(self, *args, **kwds)\u001b[0m\n\u001b[1;32m    410\u001b[0m         \"\"\"\n\u001b[1;32m    411\u001b[0m         \u001b[0mbasis\u001b[0m \u001b[0;34m=\u001b[0m \u001b[0mself\u001b[0m\u001b[0;34m.\u001b[0m\u001b[0mreduced_basis\u001b[0m\u001b[0;34m\u001b[0m\u001b[0m\n\u001b[0;32m--> 412\u001b[0;31m         \u001b[0mbasis\u001b[0m \u001b[0;34m=\u001b[0m \u001b[0;34m[\u001b[0m\u001b[0mv\u001b[0m \u001b[0;32mfor\u001b[0m \u001b[0mv\u001b[0m \u001b[0;32min\u001b[0m \u001b[0mbasis\u001b[0m\u001b[0;34m.\u001b[0m\u001b[0mLLL\u001b[0m\u001b[0;34m(\u001b[0m\u001b[0;34m*\u001b[0m\u001b[0margs\u001b[0m\u001b[0;34m,\u001b[0m \u001b[0;34m**\u001b[0m\u001b[0mkwds\u001b[0m\u001b[0;34m)\u001b[0m \u001b[0;32mif\u001b[0m \u001b[0mv\u001b[0m\u001b[0;34m]\u001b[0m\u001b[0;34m\u001b[0m\u001b[0m\n\u001b[0m\u001b[1;32m    413\u001b[0m         \u001b[0mbasis\u001b[0m \u001b[0;34m=\u001b[0m \u001b[0mmatrix\u001b[0m\u001b[0;34m(\u001b[0m\u001b[0mZZ\u001b[0m\u001b[0;34m,\u001b[0m \u001b[0mlen\u001b[0m\u001b[0;34m(\u001b[0m\u001b[0mbasis\u001b[0m\u001b[0;34m)\u001b[0m\u001b[0;34m,\u001b[0m \u001b[0mlen\u001b[0m\u001b[0;34m(\u001b[0m\u001b[0mbasis\u001b[0m\u001b[0;34m[\u001b[0m\u001b[0;36m0\u001b[0m\u001b[0;34m]\u001b[0m\u001b[0;34m)\u001b[0m\u001b[0;34m,\u001b[0m \u001b[0mbasis\u001b[0m\u001b[0;34m)\u001b[0m\u001b[0;34m\u001b[0m\u001b[0m\n\u001b[1;32m    414\u001b[0m         \u001b[0mbasis\u001b[0m\u001b[0;34m.\u001b[0m\u001b[0mset_immutable\u001b[0m\u001b[0;34m(\u001b[0m\u001b[0;34m)\u001b[0m\u001b[0;34m\u001b[0m\u001b[0m\n",
      "\u001b[0;32m/cs/scratch/gf38/Sage/SageMath/src/sage/matrix/matrix_integer_dense.pyx\u001b[0m in \u001b[0;36msage.matrix.matrix_integer_dense.Matrix_integer_dense.LLL (build/cythonized/sage/matrix/matrix_integer_dense.c:27732)\u001b[0;34m()\u001b[0m\n\u001b[1;32m   3156\u001b[0m \u001b[0;34m\u001b[0m\u001b[0m\n\u001b[1;32m   3157\u001b[0m         \u001b[0;32melif\u001b[0m \u001b[0malgorithm\u001b[0m\u001b[0;34m.\u001b[0m\u001b[0mstartswith\u001b[0m\u001b[0;34m(\u001b[0m\u001b[0;34m'fpLLL:'\u001b[0m\u001b[0;34m)\u001b[0m\u001b[0;34m:\u001b[0m\u001b[0;34m\u001b[0m\u001b[0m\n\u001b[0;32m-> 3158\u001b[0;31m             \u001b[0;32mfrom\u001b[0m \u001b[0mfpylll\u001b[0m \u001b[0;32mimport\u001b[0m \u001b[0mLLL\u001b[0m\u001b[0;34m,\u001b[0m \u001b[0mIntegerMatrix\u001b[0m\u001b[0;34m\u001b[0m\u001b[0m\n\u001b[0m\u001b[1;32m   3159\u001b[0m             \u001b[0mA\u001b[0m \u001b[0;34m=\u001b[0m \u001b[0mIntegerMatrix\u001b[0m\u001b[0;34m.\u001b[0m\u001b[0mfrom_matrix\u001b[0m\u001b[0;34m(\u001b[0m\u001b[0mself\u001b[0m\u001b[0;34m)\u001b[0m\u001b[0;34m\u001b[0m\u001b[0m\n\u001b[1;32m   3160\u001b[0m             \u001b[0mmethod\u001b[0m \u001b[0;34m=\u001b[0m \u001b[0malgorithm\u001b[0m\u001b[0;34m.\u001b[0m\u001b[0mreplace\u001b[0m\u001b[0;34m(\u001b[0m\u001b[0;34m\"fpLLL:\"\u001b[0m\u001b[0;34m,\u001b[0m\u001b[0;34m\"\"\u001b[0m\u001b[0;34m)\u001b[0m\u001b[0;34m\u001b[0m\u001b[0m\n",
      "\u001b[0;32m/cs/scratch/gf38/Sage/SageMath/local/lib/python2.7/site-packages/fpylll/__init__.py\u001b[0m in \u001b[0;36m<module>\u001b[0;34m()\u001b[0m\n\u001b[1;32m      1\u001b[0m \u001b[0;31m# flake8: noqa\u001b[0m\u001b[0;34m\u001b[0m\u001b[0;34m\u001b[0m\u001b[0m\n\u001b[1;32m      2\u001b[0m \u001b[0;32mfrom\u001b[0m \u001b[0m__future__\u001b[0m \u001b[0;32mimport\u001b[0m \u001b[0mabsolute_import\u001b[0m\u001b[0;34m\u001b[0m\u001b[0m\n\u001b[0;32m----> 3\u001b[0;31m \u001b[0;32mfrom\u001b[0m \u001b[0;34m.\u001b[0m\u001b[0mfplll\u001b[0m\u001b[0;34m.\u001b[0m\u001b[0minteger_matrix\u001b[0m \u001b[0;32mimport\u001b[0m \u001b[0mIntegerMatrix\u001b[0m\u001b[0;34m\u001b[0m\u001b[0m\n\u001b[0m\u001b[1;32m      4\u001b[0m \u001b[0;32mfrom\u001b[0m \u001b[0;34m.\u001b[0m\u001b[0mfplll\u001b[0m\u001b[0;34m.\u001b[0m\u001b[0mgso\u001b[0m \u001b[0;32mimport\u001b[0m \u001b[0mGSO\u001b[0m\u001b[0;34m\u001b[0m\u001b[0m\n\u001b[1;32m      5\u001b[0m \u001b[0;32mfrom\u001b[0m \u001b[0;34m.\u001b[0m\u001b[0mfplll\u001b[0m\u001b[0;34m.\u001b[0m\u001b[0mlll\u001b[0m \u001b[0;32mimport\u001b[0m \u001b[0mLLL\u001b[0m\u001b[0;34m\u001b[0m\u001b[0m\n",
      "\u001b[0;31mImportError\u001b[0m: libqd.so.0: cannot open shared object file: No such file or directory"
     ]
    }
   ],
   "source": [
    "L = IntegerLattice(pk[0], lll_reduce=False)\n",
    "\n",
    "B = L.LLL()\n",
    "\n",
    "broken_sk = (B, pk[0].inverse())\n",
    "\n",
    "decrypt(broken_sk, c)"
   ]
  },
  {
   "cell_type": "markdown",
   "metadata": {
    "collapsed": true,
    "deletable": true,
    "editable": true
   },
   "source": [
    "References\n",
    "--------------------------\n",
    "\n",
    "[1] Oded Goldreich, Shafi Goldwasser, and Shai Halevi. “Public-key cryptosystems from lattice\n",
    "reduction problems”. In: Annual International Cryptology Conference. Springer. 1997, pp. 112–\n",
    "131.\n",
    "\n",
    "[2] Daniele Micciancio. “Improving lattice based cryptosystems using the Hermite normal form”.\n",
    "In: Cryptography and lattices. Springer, 2001, pp. 126–145."
   ]
  },
  {
   "cell_type": "code",
   "execution_count": null,
   "metadata": {
    "collapsed": true
   },
   "outputs": [],
   "source": []
  }
 ],
 "metadata": {
  "kernelspec": {
   "display_name": "SageMath 8.1",
   "language": "",
   "name": "sagemath"
  },
  "language_info": {
   "codemirror_mode": {
    "name": "ipython",
    "version": 2
   },
   "file_extension": ".py",
   "mimetype": "text/x-python",
   "name": "python",
   "nbconvert_exporter": "python",
   "pygments_lexer": "ipython2",
   "version": "2.7.14"
  }
 },
 "nbformat": 4,
 "nbformat_minor": 2
}
